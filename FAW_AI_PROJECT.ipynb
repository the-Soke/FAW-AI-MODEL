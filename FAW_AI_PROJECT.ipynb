{
  "nbformat": 4,
  "nbformat_minor": 0,
  "metadata": {
    "colab": {
      "provenance": [],
      "gpuType": "T4",
      "authorship_tag": "ABX9TyOhJhbLEOXnTwcMyB5VsjNu",
      "include_colab_link": true
    },
    "kernelspec": {
      "name": "python3",
      "display_name": "Python 3"
    },
    "language_info": {
      "name": "python"
    },
    "accelerator": "GPU"
  },
  "cells": [
    {
      "cell_type": "markdown",
      "metadata": {
        "id": "view-in-github",
        "colab_type": "text"
      },
      "source": [
        "<a href=\"https://colab.research.google.com/github/the-Soke/FAW-AI-MODEL/blob/main/FAW_AI_PROJECT.ipynb\" target=\"_parent\"><img src=\"https://colab.research.google.com/assets/colab-badge.svg\" alt=\"Open In Colab\"/></a>"
      ]
    },
    {
      "cell_type": "markdown",
      "source": [
        "**SETUP && IMPORTS**"
      ],
      "metadata": {
        "id": "6bwT8Cq55Mi9"
      }
    },
    {
      "cell_type": "code",
      "source": [
        "import tensorflow as tf\n",
        "from tensorflow.keras import layers, models\n",
        "from tensorflow.keras.callbacks import EarlyStopping\n",
        "from tensorflow.keras.utils import image_dataset_from_directory\n",
        "from tensorflow.keras.metrics import Accuracy, Precision, Recall, F1Score\n",
        "import matplotlib.pyplot as plt\n",
        "import seaborn as sns\n",
        "from sklearn.metrics import confusion_matrix, classification_report\n",
        "from sklearn.model_selection import train_test_split\n",
        "from sklearn.preprocessing import StandardScaler\n",
        "import pandas as pd\n",
        "import numpy as np\n"
      ],
      "metadata": {
        "id": "9Yrm8B0mHGdk"
      },
      "execution_count": 1,
      "outputs": []
    },
    {
      "cell_type": "code",
      "source": [
        "!unzip /content/dataset-project.zip -d /dataset-project"
      ],
      "metadata": {
        "colab": {
          "base_uri": "https://localhost:8080/"
        },
        "id": "wtNeXXy7IF7H",
        "outputId": "50f45bfa-81d0-43ea-ddb7-e76f2c7bbd94"
      },
      "execution_count": 2,
      "outputs": [
        {
          "output_type": "stream",
          "name": "stdout",
          "text": [
            "Archive:  /content/dataset-project.zip\n",
            "   creating: /dataset-project/dataset/damage/\n",
            "  inflating: /dataset-project/dataset/damage/0011.jpg  \n",
            "  inflating: /dataset-project/dataset/damage/0012.jpg  \n",
            "  inflating: /dataset-project/dataset/damage/0016.jpg  \n",
            "  inflating: /dataset-project/dataset/damage/0022.jpg  \n",
            "  inflating: /dataset-project/dataset/damage/0023.jpg  \n",
            "  inflating: /dataset-project/dataset/damage/0024.jpg  \n",
            "  inflating: /dataset-project/dataset/damage/0028.jpg  \n",
            "  inflating: /dataset-project/dataset/damage/0029.jpg  \n",
            "  inflating: /dataset-project/dataset/damage/0032.jpg  \n",
            "  inflating: /dataset-project/dataset/damage/0037.jpg  \n",
            "  inflating: /dataset-project/dataset/damage/0066.jpg  \n",
            "  inflating: /dataset-project/dataset/damage/0068.jpg  \n",
            "  inflating: /dataset-project/dataset/damage/0069.jpg  \n",
            "  inflating: /dataset-project/dataset/damage/0070.jpg  \n",
            "  inflating: /dataset-project/dataset/damage/0071.jpg  \n",
            "  inflating: /dataset-project/dataset/damage/0072.jpg  \n",
            "  inflating: /dataset-project/dataset/damage/0073.jpg  \n",
            "  inflating: /dataset-project/dataset/damage/0074.jpg  \n",
            "  inflating: /dataset-project/dataset/damage/0076.jpg  \n",
            "  inflating: /dataset-project/dataset/damage/0078.jpg  \n",
            "  inflating: /dataset-project/dataset/damage/0079.jpg  \n",
            "  inflating: /dataset-project/dataset/damage/0080.jpg  \n",
            "  inflating: /dataset-project/dataset/damage/0082.jpg  \n",
            "  inflating: /dataset-project/dataset/damage/0111.jpg  \n",
            "  inflating: /dataset-project/dataset/damage/0113.jpg  \n",
            "  inflating: /dataset-project/dataset/damage/0114.jpg  \n",
            "  inflating: /dataset-project/dataset/damage/0115.jpg  \n",
            "  inflating: /dataset-project/dataset/damage/0117.jpg  \n",
            "  inflating: /dataset-project/dataset/damage/0118.jpg  \n",
            "   creating: /dataset-project/dataset/floor/\n",
            "  inflating: /dataset-project/dataset/floor/0001.jpg  \n",
            "  inflating: /dataset-project/dataset/floor/0005.jpg  \n",
            "  inflating: /dataset-project/dataset/floor/0007.jpg  \n",
            "  inflating: /dataset-project/dataset/floor/0013.jpg  \n",
            "  inflating: /dataset-project/dataset/floor/0019.jpg  \n",
            "  inflating: /dataset-project/dataset/floor/0022.jpg  \n",
            "  inflating: /dataset-project/dataset/floor/0023.jpg  \n",
            "  inflating: /dataset-project/dataset/floor/0025.jpg  \n",
            "  inflating: /dataset-project/dataset/floor/0026.jpg  \n",
            "  inflating: /dataset-project/dataset/floor/0027.jpg  \n",
            "  inflating: /dataset-project/dataset/floor/0028.jpg  \n",
            "  inflating: /dataset-project/dataset/floor/0031.jpg  \n",
            "  inflating: /dataset-project/dataset/floor/0043.jpg  \n",
            "  inflating: /dataset-project/dataset/floor/0058.jpg  \n",
            "  inflating: /dataset-project/dataset/floor/0059.jpg  \n",
            "  inflating: /dataset-project/dataset/floor/0060.jpg  \n",
            "  inflating: /dataset-project/dataset/floor/0062.jpg  \n",
            "  inflating: /dataset-project/dataset/floor/0064.jpg  \n",
            "  inflating: /dataset-project/dataset/floor/0065.jpg  \n",
            "  inflating: /dataset-project/dataset/floor/0073.jpg  \n",
            "  inflating: /dataset-project/dataset/floor/0082.jpg  \n",
            "  inflating: /dataset-project/dataset/floor/0089.jpg  \n",
            "  inflating: /dataset-project/dataset/floor/0093.jpg  \n",
            "  inflating: /dataset-project/dataset/floor/0096.jpg  \n",
            "  inflating: /dataset-project/dataset/floor/0100.jpg  \n",
            "  inflating: /dataset-project/dataset/floor/0107.jpg  \n",
            "  inflating: /dataset-project/dataset/floor/0110.jpg  \n",
            "  inflating: /dataset-project/dataset/floor/0115.jpg  \n",
            "  inflating: /dataset-project/dataset/floor/0117.jpg  \n",
            "  inflating: /dataset-project/dataset/floor/0120.jpg  \n",
            "  inflating: /dataset-project/dataset/floor/0121.jpg  \n",
            "  inflating: /dataset-project/dataset/floor/0133.jpg  \n",
            "  inflating: /dataset-project/dataset/floor/0135.jpg  \n",
            "  inflating: /dataset-project/dataset/floor/0164.jpg  \n",
            "  inflating: /dataset-project/dataset/floor/0208.jpg  \n",
            "  inflating: /dataset-project/dataset/floor/0212.jpg  \n",
            "  inflating: /dataset-project/dataset/floor/0213.jpg  \n",
            "  inflating: /dataset-project/dataset/floor/0216.jpg  \n",
            "  inflating: /dataset-project/dataset/floor/0218.jpg  \n",
            "  inflating: /dataset-project/dataset/floor/0219.jpg  \n",
            "  inflating: /dataset-project/dataset/floor/0226.jpg  \n",
            "  inflating: /dataset-project/dataset/floor/0234.jpg  \n",
            "  inflating: /dataset-project/dataset/floor/0235.jpg  \n",
            "  inflating: /dataset-project/dataset/floor/0240.jpg  \n",
            "  inflating: /dataset-project/dataset/floor/0245.jpg  \n",
            "  inflating: /dataset-project/dataset/floor/0246.jpg  \n",
            "  inflating: /dataset-project/dataset/floor/0248.jpg  \n",
            "  inflating: /dataset-project/dataset/floor/0252.jpg  \n",
            "  inflating: /dataset-project/dataset/floor/0262.jpg  \n",
            "  inflating: /dataset-project/dataset/floor/0263.jpg  \n",
            "  inflating: /dataset-project/dataset/floor/0272.jpg  \n",
            "  inflating: /dataset-project/dataset/floor/0277.jpg  \n",
            "  inflating: /dataset-project/dataset/floor/0295.jpg  \n",
            "  inflating: /dataset-project/dataset/floor/0299.jpg  \n",
            "  inflating: /dataset-project/dataset/floor/0302.jpg  \n",
            "  inflating: /dataset-project/dataset/floor/0306.jpg  \n",
            "  inflating: /dataset-project/dataset/floor/0310.jpg  \n",
            "  inflating: /dataset-project/dataset/floor/0316.jpg  \n",
            "  inflating: /dataset-project/dataset/floor/0341.jpg  \n",
            "  inflating: /dataset-project/dataset/floor/0342.jpg  \n",
            "  inflating: /dataset-project/dataset/floor/0355.jpg  \n",
            "  inflating: /dataset-project/dataset/floor/0362.jpg  \n",
            "  inflating: /dataset-project/dataset/floor/0378.jpg  \n",
            "  inflating: /dataset-project/dataset/floor/0399.jpg  \n",
            "  inflating: /dataset-project/dataset/floor/0429.jpg  \n",
            "  inflating: /dataset-project/dataset/floor/0453.jpg  \n",
            "  inflating: /dataset-project/dataset/floor/0462.jpg  \n",
            "  inflating: /dataset-project/dataset/floor/0464.jpg  \n",
            "  inflating: /dataset-project/dataset/floor/0465.jpg  \n",
            "  inflating: /dataset-project/dataset/floor/0466.jpg  \n",
            "  inflating: /dataset-project/dataset/floor/0467.jpg  \n",
            "  inflating: /dataset-project/dataset/floor/0471.jpg  \n",
            "  inflating: /dataset-project/dataset/floor/0495.jpg  \n",
            "   creating: /dataset-project/dataset/soil/\n",
            "  inflating: /dataset-project/dataset/soil/0001.jpg  \n",
            "  inflating: /dataset-project/dataset/soil/0005.jpg  \n",
            "  inflating: /dataset-project/dataset/soil/0011.jpg  \n",
            "  inflating: /dataset-project/dataset/soil/0012.jpg  \n",
            "  inflating: /dataset-project/dataset/soil/0013.jpg  \n",
            "  inflating: /dataset-project/dataset/soil/0014.jpg  \n",
            "  inflating: /dataset-project/dataset/soil/0015.jpg  \n",
            "  inflating: /dataset-project/dataset/soil/0016.jpg  \n",
            "  inflating: /dataset-project/dataset/soil/0017.jpg  \n",
            "  inflating: /dataset-project/dataset/soil/0018.jpg  \n",
            "  inflating: /dataset-project/dataset/soil/0019.jpg  \n",
            "  inflating: /dataset-project/dataset/soil/0028.jpg  \n",
            "  inflating: /dataset-project/dataset/soil/0033.jpg  \n",
            "  inflating: /dataset-project/dataset/soil/0037.jpg  \n",
            "  inflating: /dataset-project/dataset/soil/0039.jpg  \n",
            "  inflating: /dataset-project/dataset/soil/0043.jpg  \n",
            "  inflating: /dataset-project/dataset/soil/0047.jpg  \n",
            "  inflating: /dataset-project/dataset/soil/0048.jpg  \n",
            "  inflating: /dataset-project/dataset/soil/0049.jpg  \n",
            "  inflating: /dataset-project/dataset/soil/0051.jpg  \n",
            "  inflating: /dataset-project/dataset/soil/0058.jpg  \n",
            "  inflating: /dataset-project/dataset/soil/0059.jpg  \n",
            "  inflating: /dataset-project/dataset/soil/0061.jpg  \n",
            "  inflating: /dataset-project/dataset/soil/0062.jpg  \n",
            "  inflating: /dataset-project/dataset/soil/0063.jpg  \n",
            "  inflating: /dataset-project/dataset/soil/0064.jpg  \n",
            "  inflating: /dataset-project/dataset/soil/0065.jpg  \n",
            "  inflating: /dataset-project/dataset/soil/0066.jpg  \n",
            "  inflating: /dataset-project/dataset/soil/0067.jpg  \n",
            "  inflating: /dataset-project/dataset/soil/0069.jpg  \n",
            "  inflating: /dataset-project/dataset/soil/0071.jpg  \n",
            "  inflating: /dataset-project/dataset/soil/0072.jpg  \n",
            "  inflating: /dataset-project/dataset/soil/0073.jpg  \n",
            "  inflating: /dataset-project/dataset/soil/0075.jpg  \n",
            "  inflating: /dataset-project/dataset/soil/0076.jpg  \n",
            "  inflating: /dataset-project/dataset/soil/0081.jpg  \n",
            "  inflating: /dataset-project/dataset/soil/0082.jpg  \n",
            "  inflating: /dataset-project/dataset/soil/0083.jpg  \n",
            "  inflating: /dataset-project/dataset/soil/0084.jpg  \n",
            "  inflating: /dataset-project/dataset/soil/0086.jpg  \n",
            "  inflating: /dataset-project/dataset/soil/0087.jpg  \n",
            "  inflating: /dataset-project/dataset/soil/0088.jpg  \n",
            "  inflating: /dataset-project/dataset/soil/0089.jpg  \n",
            "  inflating: /dataset-project/dataset/soil/0090.jpg  \n",
            "  inflating: /dataset-project/dataset/soil/0092.jpg  \n",
            "  inflating: /dataset-project/dataset/soil/0093.jpg  \n",
            "  inflating: /dataset-project/dataset/soil/0094.jpg  \n",
            "  inflating: /dataset-project/dataset/soil/0095.jpg  \n",
            "  inflating: /dataset-project/dataset/soil/0096.jpg  \n",
            "  inflating: /dataset-project/dataset/soil/0097.jpg  \n",
            "  inflating: /dataset-project/dataset/soil/0098.jpg  \n",
            "  inflating: /dataset-project/dataset/soil/0100.jpg  \n",
            "  inflating: /dataset-project/dataset/soil/0102.jpg  \n",
            "  inflating: /dataset-project/dataset/soil/0103.jpg  \n",
            "  inflating: /dataset-project/dataset/soil/0104.jpg  \n",
            "  inflating: /dataset-project/dataset/soil/0105.jpg  \n",
            "  inflating: /dataset-project/dataset/soil/0107.jpg  \n",
            "  inflating: /dataset-project/dataset/soil/0109.jpg  \n",
            "  inflating: /dataset-project/dataset/soil/0110.jpg  \n",
            "  inflating: /dataset-project/dataset/soil/0114.jpg  \n",
            "  inflating: /dataset-project/dataset/soil/0116.jpg  \n",
            "  inflating: /dataset-project/dataset/soil/0117.jpg  \n",
            "  inflating: /dataset-project/dataset/soil/0121.jpg  \n",
            "  inflating: /dataset-project/dataset/soil/0124.jpg  \n",
            "  inflating: /dataset-project/dataset/soil/0126.jpg  \n",
            "  inflating: /dataset-project/dataset/soil/0129.jpg  \n",
            "  inflating: /dataset-project/dataset/soil/0130.jpg  \n",
            "  inflating: /dataset-project/dataset/soil/0133.jpg  \n",
            "  inflating: /dataset-project/dataset/soil/0135.jpg  \n",
            "  inflating: /dataset-project/dataset/soil/0136.jpg  \n",
            "  inflating: /dataset-project/dataset/soil/0140.jpg  \n",
            "  inflating: /dataset-project/dataset/soil/0141.jpg  \n",
            "  inflating: /dataset-project/dataset/soil/0142.jpg  \n",
            "  inflating: /dataset-project/dataset/soil/0144.jpg  \n",
            "  inflating: /dataset-project/dataset/soil/0146.jpg  \n",
            "  inflating: /dataset-project/dataset/soil/0147.jpg  \n",
            "  inflating: /dataset-project/dataset/soil/0150.jpg  \n",
            "  inflating: /dataset-project/dataset/soil/0151.jpg  \n",
            "  inflating: /dataset-project/dataset/soil/0152.jpg  \n",
            "  inflating: /dataset-project/dataset/soil/0153.jpg  \n",
            "  inflating: /dataset-project/dataset/soil/0155.jpg  \n",
            "  inflating: /dataset-project/dataset/soil/0156.jpg  \n",
            "  inflating: /dataset-project/dataset/soil/0158.jpg  \n",
            "  inflating: /dataset-project/dataset/soil/0159.jpg  \n",
            "  inflating: /dataset-project/dataset/soil/0161.jpg  \n",
            "  inflating: /dataset-project/dataset/soil/0163.jpg  \n",
            "  inflating: /dataset-project/dataset/soil/0164.jpg  \n",
            "  inflating: /dataset-project/dataset/soil/0165.jpg  \n",
            "  inflating: /dataset-project/dataset/soil/0166.jpg  \n",
            "  inflating: /dataset-project/dataset/soil/0167.jpg  \n",
            "  inflating: /dataset-project/dataset/soil/0168.jpg  \n",
            "  inflating: /dataset-project/dataset/soil/0169.jpg  \n",
            "  inflating: /dataset-project/dataset/soil/0170.jpg  \n",
            "  inflating: /dataset-project/dataset/soil/0171.jpg  \n",
            "  inflating: /dataset-project/dataset/soil/0172.jpg  \n",
            "  inflating: /dataset-project/dataset/soil/0173.jpg  \n",
            "  inflating: /dataset-project/dataset/soil/0177.jpg  \n",
            "  inflating: /dataset-project/dataset/soil/0178.jpg  \n",
            "  inflating: /dataset-project/dataset/soil/0180.jpg  \n",
            "  inflating: /dataset-project/dataset/soil/0184.jpg  \n",
            "  inflating: /dataset-project/dataset/soil/0186.jpg  \n",
            "  inflating: /dataset-project/dataset/soil/0191.jpg  \n",
            "  inflating: /dataset-project/dataset/soil/0192.jpg  \n",
            "  inflating: /dataset-project/dataset/soil/0195.jpg  \n",
            "  inflating: /dataset-project/dataset/soil/0196.jpg  \n",
            "  inflating: /dataset-project/dataset/soil/0199.jpg  \n",
            "  inflating: /dataset-project/dataset/soil/0201.jpg  \n",
            "  inflating: /dataset-project/dataset/soil/0202.jpg  \n",
            "  inflating: /dataset-project/dataset/soil/0203.jpg  \n",
            "  inflating: /dataset-project/dataset/soil/0207.jpg  \n",
            "  inflating: /dataset-project/dataset/soil/0208.jpg  \n",
            "  inflating: /dataset-project/dataset/soil/0209.jpg  \n",
            "  inflating: /dataset-project/dataset/soil/0210.jpg  \n",
            "  inflating: /dataset-project/dataset/soil/0211.jpg  \n",
            "  inflating: /dataset-project/dataset/soil/0212.jpg  \n",
            "  inflating: /dataset-project/dataset/soil/0213.jpg  \n",
            "  inflating: /dataset-project/dataset/soil/0214.jpg  \n",
            "  inflating: /dataset-project/dataset/soil/0215.jpg  \n",
            "  inflating: /dataset-project/dataset/soil/0217.jpg  \n",
            "  inflating: /dataset-project/dataset/soil/0219.jpg  \n",
            "  inflating: /dataset-project/dataset/soil/0220.jpg  \n",
            "  inflating: /dataset-project/dataset/soil/0221.jpg  \n",
            "  inflating: /dataset-project/dataset/soil/0222.jpg  \n",
            "  inflating: /dataset-project/dataset/soil/0223.jpg  \n",
            "  inflating: /dataset-project/dataset/soil/0224.jpg  \n",
            "  inflating: /dataset-project/dataset/soil/0225.jpg  \n",
            "  inflating: /dataset-project/dataset/soil/0226.jpg  \n",
            "  inflating: /dataset-project/dataset/soil/0227.jpg  \n",
            "  inflating: /dataset-project/dataset/soil/0228.jpg  \n",
            "  inflating: /dataset-project/dataset/soil/0232.jpg  \n",
            "  inflating: /dataset-project/dataset/soil/0234.jpg  \n",
            "  inflating: /dataset-project/dataset/soil/0239.jpg  \n",
            "  inflating: /dataset-project/dataset/soil/0240.jpg  \n",
            "  inflating: /dataset-project/dataset/soil/0242.jpg  \n",
            "  inflating: /dataset-project/dataset/soil/0245.jpg  \n",
            "  inflating: /dataset-project/dataset/soil/0246.jpg  \n",
            "  inflating: /dataset-project/dataset/soil/0247.jpg  \n",
            "  inflating: /dataset-project/dataset/soil/0248.jpg  \n",
            "  inflating: /dataset-project/dataset/soil/0249.jpg  \n",
            "  inflating: /dataset-project/dataset/soil/0250.jpg  \n",
            "  inflating: /dataset-project/dataset/soil/0251.jpg  \n",
            "  inflating: /dataset-project/dataset/soil/0252.jpg  \n",
            "  inflating: /dataset-project/dataset/soil/0253.jpg  \n",
            "  inflating: /dataset-project/dataset/soil/0255.jpg  \n",
            "  inflating: /dataset-project/dataset/soil/0256.jpg  \n",
            "  inflating: /dataset-project/dataset/soil/0257.jpg  \n",
            "  inflating: /dataset-project/dataset/soil/0258.jpg  \n",
            "  inflating: /dataset-project/dataset/soil/0260.jpg  \n",
            "  inflating: /dataset-project/dataset/soil/0261.jpg  \n",
            "  inflating: /dataset-project/dataset/soil/landscape_0001.jpg  \n",
            "  inflating: /dataset-project/dataset/soil/landscape_0002.jpg  \n",
            "  inflating: /dataset-project/dataset/soil/landscape_0003.jpg  \n",
            "  inflating: /dataset-project/dataset/soil/landscape_0004.jpg  \n",
            "  inflating: /dataset-project/dataset/soil/landscape_0007.jpg  \n",
            "  inflating: /dataset-project/dataset/soil/landscape_0009.jpg  \n",
            "  inflating: /dataset-project/dataset/soil/landscape_0012.jpg  \n",
            "  inflating: /dataset-project/dataset/soil/landscape_0014.jpg  \n",
            "  inflating: /dataset-project/dataset/soil/landscape_0015.jpg  \n",
            "  inflating: /dataset-project/dataset/soil/landscape_0016.jpg  \n",
            "  inflating: /dataset-project/dataset/soil/landscape_0018.jpg  \n",
            "  inflating: /dataset-project/dataset/soil/landscape_0019.jpg  \n",
            "  inflating: /dataset-project/dataset/soil/landscape_0020.jpg  \n",
            "  inflating: /dataset-project/dataset/soil/landscape_0021.jpg  \n",
            "  inflating: /dataset-project/dataset/soil/landscape_0022.jpg  \n",
            "  inflating: /dataset-project/dataset/soil/landscape_0023.jpg  \n",
            "  inflating: /dataset-project/dataset/soil/landscape_0024.jpg  \n",
            "  inflating: /dataset-project/dataset/soil/landscape_0025.jpg  \n",
            "  inflating: /dataset-project/dataset/soil/landscape_0026.jpg  \n",
            "  inflating: /dataset-project/dataset/soil/landscape_0027.jpg  \n",
            "  inflating: /dataset-project/dataset/soil/landscape_0028.jpg  \n",
            "  inflating: /dataset-project/dataset/soil/landscape_0029.jpg  \n",
            "  inflating: /dataset-project/dataset/soil/landscape_0030.jpg  \n",
            "  inflating: /dataset-project/dataset/soil/landscape_0031.jpg  \n",
            "  inflating: /dataset-project/dataset/soil/landscape_0032.jpg  \n",
            "  inflating: /dataset-project/dataset/soil/landscape_0033.jpg  \n",
            "  inflating: /dataset-project/dataset/soil/landscape_0034.jpg  \n",
            "  inflating: /dataset-project/dataset/soil/landscape_0035.jpg  \n",
            "  inflating: /dataset-project/dataset/soil/landscape_0037.jpg  \n",
            "  inflating: /dataset-project/dataset/soil/landscape_0038.jpg  \n",
            "  inflating: /dataset-project/dataset/soil/landscape_0039.jpg  \n",
            "  inflating: /dataset-project/dataset/soil/landscape_0040.jpg  \n",
            "  inflating: /dataset-project/dataset/soil/landscape_0041.jpg  \n",
            "  inflating: /dataset-project/dataset/soil/landscape_0042.jpg  \n",
            "  inflating: /dataset-project/dataset/soil/landscape_0043.jpg  \n",
            "  inflating: /dataset-project/dataset/soil/landscape_0044.jpg  \n",
            "  inflating: /dataset-project/dataset/soil/landscape_0045.jpg  \n",
            "  inflating: /dataset-project/dataset/soil/landscape_0047.jpg  \n",
            "  inflating: /dataset-project/dataset/soil/landscape_0051.jpg  \n",
            "  inflating: /dataset-project/dataset/soil/landscape_0052.jpg  \n",
            "  inflating: /dataset-project/dataset/soil/landscape_0056.jpg  \n",
            "  inflating: /dataset-project/dataset/soil/landscape_0058.jpg  \n",
            "  inflating: /dataset-project/dataset/soil/landscape_0060.jpg  \n",
            "  inflating: /dataset-project/dataset/soil/landscape_0061.jpg  \n",
            "  inflating: /dataset-project/dataset/soil/landscape_0073.jpg  \n",
            "  inflating: /dataset-project/dataset/soil/landscape_0088.jpg  \n",
            "  inflating: /dataset-project/dataset/soil/landscape_0091.jpg  \n",
            "  inflating: /dataset-project/dataset/soil/landscape_0096.jpg  \n",
            "  inflating: /dataset-project/dataset/soil/landscape_0097.jpg  \n",
            "  inflating: /dataset-project/dataset/soil/landscape_0099.jpg  \n",
            "  inflating: /dataset-project/dataset/soil/landscape_0100.jpg  \n",
            "  inflating: /dataset-project/dataset/soil/landscape_0101.jpg  \n",
            "  inflating: /dataset-project/dataset/soil/landscape_0105.jpg  \n",
            "  inflating: /dataset-project/dataset/soil/landscape_0107.jpg  \n",
            "  inflating: /dataset-project/dataset/soil/landscape_0111.jpg  \n",
            "  inflating: /dataset-project/dataset/soil/landscape_0113.jpg  \n",
            "  inflating: /dataset-project/dataset/soil/landscape_0115.jpg  \n",
            "  inflating: /dataset-project/dataset/soil/landscape_0118.jpg  \n",
            "  inflating: /dataset-project/dataset/soil/landscape_0121.jpg  \n",
            "  inflating: /dataset-project/dataset/soil/landscape_0124.jpg  \n",
            "  inflating: /dataset-project/dataset/soil/landscape_0138.jpg  \n",
            "  inflating: /dataset-project/dataset/soil/landscape_0139.jpg  \n",
            "  inflating: /dataset-project/dataset/soil/landscape_0140.jpg  \n",
            "  inflating: /dataset-project/dataset/soil/landscape_0143.jpg  \n",
            "  inflating: /dataset-project/dataset/soil/landscape_0144.jpg  \n",
            "  inflating: /dataset-project/dataset/soil/landscape_0146.jpg  \n",
            "  inflating: /dataset-project/dataset/soil/landscape_0148.jpg  \n",
            "  inflating: /dataset-project/dataset/soil/landscape_0151.jpg  \n",
            "  inflating: /dataset-project/dataset/soil/landscape_0152.jpg  \n",
            "  inflating: /dataset-project/dataset/soil/landscape_0154.jpg  \n",
            "  inflating: /dataset-project/dataset/soil/landscape_0155.jpg  \n",
            "  inflating: /dataset-project/dataset/soil/landscape_0156.jpg  \n",
            "  inflating: /dataset-project/dataset/soil/landscape_0157.jpg  \n",
            "  inflating: /dataset-project/dataset/soil/landscape_0158.jpg  \n",
            "  inflating: /dataset-project/dataset/soil/landscape_0159.jpg  \n",
            "  inflating: /dataset-project/dataset/soil/landscape_0160.jpg  \n",
            "  inflating: /dataset-project/dataset/soil/landscape_0161.jpg  \n",
            "  inflating: /dataset-project/dataset/soil/landscape_0162.jpg  \n",
            "  inflating: /dataset-project/dataset/soil/landscape_0163.jpg  \n",
            "  inflating: /dataset-project/dataset/soil/landscape_0164.jpg  \n",
            "  inflating: /dataset-project/dataset/soil/landscape_0165.jpg  \n",
            "  inflating: /dataset-project/dataset/soil/landscape_0166.jpg  \n",
            "  inflating: /dataset-project/dataset/soil/landscape_0167.jpg  \n",
            "  inflating: /dataset-project/dataset/soil/landscape_0168.jpg  \n",
            "  inflating: /dataset-project/dataset/soil/landscape_0169.jpg  \n",
            "  inflating: /dataset-project/dataset/soil/landscape_0170.jpg  \n",
            "  inflating: /dataset-project/dataset/soil/landscape_0171.jpg  \n",
            "  inflating: /dataset-project/dataset/soil/landscape_0172.jpg  \n",
            "  inflating: /dataset-project/dataset/soil/landscape_0173.jpg  \n",
            "  inflating: /dataset-project/dataset/soil/landscape_0174.jpg  \n",
            "  inflating: /dataset-project/dataset/soil/landscape_0175.jpg  \n",
            "  inflating: /dataset-project/dataset/soil/landscape_0176.jpg  \n",
            "  inflating: /dataset-project/dataset/soil/landscape_0177.jpg  \n",
            "  inflating: /dataset-project/dataset/soil/landscape_0178.jpg  \n",
            "  inflating: /dataset-project/dataset/soil/landscape_0179.jpg  \n",
            "  inflating: /dataset-project/dataset/soil/landscape_0181.jpg  \n",
            "  inflating: /dataset-project/dataset/soil/landscape_0182.jpg  \n",
            "  inflating: /dataset-project/dataset/soil/landscape_0183.jpg  \n",
            "  inflating: /dataset-project/dataset/soil/landscape_0184.jpg  \n",
            "  inflating: /dataset-project/dataset/soil/landscape_0185.jpg  \n",
            "  inflating: /dataset-project/dataset/soil/landscape_0186.jpg  \n",
            "  inflating: /dataset-project/dataset/soil/landscape_0187.jpg  \n",
            "  inflating: /dataset-project/dataset/soil/landscape_0188.jpg  \n",
            "  inflating: /dataset-project/dataset/soil/landscape_0189.jpg  \n",
            "  inflating: /dataset-project/dataset/soil/landscape_0190.jpg  \n",
            "  inflating: /dataset-project/dataset/soil/landscape_0191.jpg  \n",
            "  inflating: /dataset-project/dataset/soil/landscape_0193.jpg  \n",
            "  inflating: /dataset-project/dataset/soil/landscape_0199.jpg  \n",
            "  inflating: /dataset-project/dataset/soil/landscape_0201.jpg  \n",
            "  inflating: /dataset-project/dataset/soil/landscape_0202.jpg  \n",
            "  inflating: /dataset-project/dataset/soil/landscape_0203.jpg  \n",
            "  inflating: /dataset-project/dataset/soil/landscape_0204.jpg  \n",
            "  inflating: /dataset-project/dataset/soil/landscape_0205.jpg  \n",
            "  inflating: /dataset-project/dataset/soil/landscape_0206.jpg  \n",
            "  inflating: /dataset-project/dataset/soil/landscape_0211.jpg  \n",
            "  inflating: /dataset-project/dataset/soil/landscape_0212.jpg  \n",
            "  inflating: /dataset-project/dataset/soil/landscape_0213.jpg  \n",
            "  inflating: /dataset-project/dataset/soil/landscape_0214.jpg  \n",
            "  inflating: /dataset-project/dataset/soil/landscape_0216.jpg  \n",
            "  inflating: /dataset-project/dataset/soil/landscape_0218.jpg  \n",
            "  inflating: /dataset-project/dataset/soil/landscape_0220.jpg  \n",
            "  inflating: /dataset-project/dataset/soil/landscape_0221.jpg  \n",
            "  inflating: /dataset-project/dataset/soil/landscape_0222.jpg  \n",
            "  inflating: /dataset-project/dataset/soil/landscape_0224.jpg  \n",
            "  inflating: /dataset-project/dataset/soil/landscape_0225.jpg  \n",
            "  inflating: /dataset-project/dataset/soil/landscape_0227.jpg  \n",
            "  inflating: /dataset-project/dataset/soil/landscape_0228.jpg  \n",
            "  inflating: /dataset-project/dataset/soil/landscape_0229.jpg  \n",
            "  inflating: /dataset-project/dataset/soil/landscape_0230.jpg  \n",
            "  inflating: /dataset-project/dataset/soil/landscape_0232.jpg  \n",
            "  inflating: /dataset-project/dataset/soil/landscape_0233.jpg  \n",
            "  inflating: /dataset-project/dataset/soil/landscape_0235.jpg  \n",
            "  inflating: /dataset-project/dataset/soil/landscape_0236.jpg  \n",
            "  inflating: /dataset-project/dataset/soil/landscape_0237.jpg  \n",
            "  inflating: /dataset-project/dataset/soil/landscape_0238.jpg  \n",
            "  inflating: /dataset-project/dataset/soil/landscape_0239.jpg  \n",
            "  inflating: /dataset-project/dataset/soil/landscape_0240.jpg  \n",
            "  inflating: /dataset-project/dataset/soil/landscape_0241.jpg  \n",
            "  inflating: /dataset-project/dataset/soil/landscape_0242.jpg  \n",
            "  inflating: /dataset-project/dataset/soil/landscape_0243.jpg  \n",
            "  inflating: /dataset-project/dataset/soil/landscape_0244.jpg  \n",
            "  inflating: /dataset-project/dataset/soil/landscape_0245.jpg  \n",
            "  inflating: /dataset-project/dataset/soil/landscape_0246.jpg  \n",
            "  inflating: /dataset-project/dataset/soil/landscape_0247.jpg  \n",
            "  inflating: /dataset-project/dataset/soil/landscape_0248.jpg  \n",
            "  inflating: /dataset-project/dataset/soil/landscape_0249.jpg  \n",
            "  inflating: /dataset-project/dataset/soil/landscape_0250.jpg  \n",
            "  inflating: /dataset-project/dataset/soil/landscape_0251.jpg  \n",
            "  inflating: /dataset-project/dataset/soil/landscape_0252.jpg  \n",
            "  inflating: /dataset-project/dataset/soil/landscape_0253.jpg  \n",
            "  inflating: /dataset-project/dataset/soil/landscape_0254.jpg  \n",
            "  inflating: /dataset-project/dataset/soil/landscape_0255.jpg  \n",
            "  inflating: /dataset-project/dataset/soil/landscape_0256.jpg  \n",
            "  inflating: /dataset-project/dataset/soil/landscape_0257.jpg  \n",
            "  inflating: /dataset-project/dataset/soil/landscape_0259.jpg  \n",
            "  inflating: /dataset-project/dataset/soil/landscape_0260.jpg  \n",
            "  inflating: /dataset-project/dataset/soil/landscape_0261.jpg  \n",
            "  inflating: /dataset-project/dataset/soil/landscape_0262.jpg  \n",
            "  inflating: /dataset-project/dataset/soil/landscape_0265.jpg  \n",
            "  inflating: /dataset-project/dataset/soil/landscape_0266.jpg  \n",
            "  inflating: /dataset-project/dataset/soil/landscape_0267.jpg  \n",
            "  inflating: /dataset-project/dataset/soil/landscape_0269.jpg  \n",
            "  inflating: /dataset-project/dataset/soil/landscape_0270.jpg  \n",
            "  inflating: /dataset-project/dataset/soil/landscape_0272.jpg  \n",
            "  inflating: /dataset-project/dataset/soil/landscape_0273.jpg  \n",
            "  inflating: /dataset-project/dataset/soil/landscape_0274.jpg  \n",
            "  inflating: /dataset-project/dataset/soil/landscape_0275.jpg  \n",
            "  inflating: /dataset-project/dataset/soil/landscape_0276.jpg  \n",
            "  inflating: /dataset-project/dataset/soil/landscape_0277.jpg  \n",
            "  inflating: /dataset-project/dataset/soil/landscape_0279.jpg  \n",
            "  inflating: /dataset-project/dataset/soil/landscape_0280.jpg  \n",
            "  inflating: /dataset-project/dataset/soil/landscape_0281.jpg  \n",
            "  inflating: /dataset-project/dataset/soil/landscape_0282.jpg  \n",
            "  inflating: /dataset-project/dataset/soil/landscape_0283.jpg  \n",
            "  inflating: /dataset-project/dataset/soil/landscape_0284.jpg  \n",
            "  inflating: /dataset-project/dataset/soil/landscape_0285.jpg  \n",
            "  inflating: /dataset-project/dataset/soil/landscape_0288.jpg  \n",
            "  inflating: /dataset-project/dataset/soil/landscape_0290.jpg  \n",
            "  inflating: /dataset-project/dataset/soil/landscape_0293.jpg  \n",
            "  inflating: /dataset-project/dataset/soil/landscape_0294.jpg  \n",
            "  inflating: /dataset-project/dataset/soil/landscape_0295.jpg  \n",
            "  inflating: /dataset-project/dataset/soil/landscape_0296.jpg  \n",
            "  inflating: /dataset-project/dataset/soil/landscape_0297.jpg  \n",
            "  inflating: /dataset-project/dataset/soil/landscape_0298.jpg  \n",
            "  inflating: /dataset-project/dataset/soil/landscape_0299.jpg  \n",
            "  inflating: /dataset-project/dataset/soil/landscape_0300.jpg  \n",
            "  inflating: /dataset-project/dataset/soil/landscape_0301.jpg  \n",
            "  inflating: /dataset-project/dataset/soil/landscape_0302.jpg  \n",
            "  inflating: /dataset-project/dataset/soil/landscape_0303.jpg  \n",
            "  inflating: /dataset-project/dataset/soil/landscape_0304.jpg  \n",
            "  inflating: /dataset-project/dataset/soil/landscape_0305.jpg  \n",
            "  inflating: /dataset-project/dataset/soil/landscape_0306.jpg  \n",
            "  inflating: /dataset-project/dataset/soil/landscape_0308.jpg  \n",
            "  inflating: /dataset-project/dataset/soil/landscape_0309.jpg  \n",
            "  inflating: /dataset-project/dataset/soil/landscape_0310.jpg  \n",
            "  inflating: /dataset-project/dataset/soil/landscape_0311.jpg  \n",
            "  inflating: /dataset-project/dataset/soil/landscape_0312.jpg  \n",
            "  inflating: /dataset-project/dataset/soil/landscape_0313.jpg  \n",
            "  inflating: /dataset-project/dataset/soil/landscape_0314.jpg  \n",
            "  inflating: /dataset-project/dataset/soil/landscape_0315.jpg  \n",
            "  inflating: /dataset-project/dataset/soil/landscape_0316.jpg  \n",
            "  inflating: /dataset-project/dataset/soil/landscape_0317.jpg  \n",
            "  inflating: /dataset-project/dataset/soil/landscape_0318.jpg  \n",
            "  inflating: /dataset-project/dataset/soil/landscape_0319.jpg  \n",
            "  inflating: /dataset-project/dataset/soil/landscape_0320.jpg  \n",
            "  inflating: /dataset-project/dataset/soil/landscape_0321.jpg  \n",
            "  inflating: /dataset-project/dataset/soil/landscape_0322.jpg  \n",
            "  inflating: /dataset-project/dataset/soil/landscape_0323.jpg  \n",
            "  inflating: /dataset-project/dataset/soil/landscape_0324.jpg  \n",
            "  inflating: /dataset-project/dataset/soil/landscape_0325.jpg  \n",
            "  inflating: /dataset-project/dataset/soil/landscape_0326.jpg  \n",
            "  inflating: /dataset-project/dataset/soil/landscape_0327.jpg  \n",
            "  inflating: /dataset-project/dataset/soil/landscape_0328.jpg  \n",
            "  inflating: /dataset-project/dataset/soil/landscape_0329.jpg  \n",
            "  inflating: /dataset-project/dataset/soil/landscape_0330.jpg  \n",
            "  inflating: /dataset-project/dataset/soil/landscape_0331.jpg  \n",
            "  inflating: /dataset-project/dataset/soil/landscape_0333.jpg  \n",
            "  inflating: /dataset-project/dataset/soil/landscape_0334.jpg  \n",
            "  inflating: /dataset-project/dataset/soil/landscape_0335.jpg  \n",
            "  inflating: /dataset-project/dataset/soil/landscape_0336.jpg  \n",
            "  inflating: /dataset-project/dataset/soil/landscape_0337.jpg  \n",
            "  inflating: /dataset-project/dataset/soil/landscape_0338.jpg  \n",
            "  inflating: /dataset-project/dataset/soil/landscape_0339.jpg  \n",
            "  inflating: /dataset-project/dataset/soil/landscape_0340.jpg  \n",
            "  inflating: /dataset-project/dataset/soil/landscape_0341.jpg  \n",
            "  inflating: /dataset-project/dataset/soil/landscape_0342.jpg  \n",
            "  inflating: /dataset-project/dataset/soil/landscape_0343.jpg  \n",
            "  inflating: /dataset-project/dataset/soil/landscape_0344.jpg  \n",
            "  inflating: /dataset-project/dataset/soil/landscape_0345.jpg  \n",
            "  inflating: /dataset-project/dataset/soil/landscape_0347.jpg  \n",
            "  inflating: /dataset-project/dataset/soil/landscape_0348.jpg  \n",
            "  inflating: /dataset-project/dataset/soil/landscape_0349.jpg  \n",
            "  inflating: /dataset-project/dataset/soil/landscape_0351.jpg  \n",
            "  inflating: /dataset-project/dataset/soil/landscape_0352.jpg  \n",
            "  inflating: /dataset-project/dataset/soil/landscape_0353.jpg  \n",
            "  inflating: /dataset-project/dataset/soil/landscape_0354.jpg  \n",
            "  inflating: /dataset-project/dataset/soil/landscape_0355.jpg  \n",
            "  inflating: /dataset-project/dataset/soil/landscape_0356.jpg  \n",
            "  inflating: /dataset-project/dataset/soil/landscape_0357.jpg  \n",
            "  inflating: /dataset-project/dataset/soil/landscape_0358.jpg  \n",
            "  inflating: /dataset-project/dataset/soil/landscape_0359.jpg  \n",
            "  inflating: /dataset-project/dataset/soil/landscape_0360.jpg  \n",
            "  inflating: /dataset-project/dataset/soil/landscape_0361.jpg  \n",
            "  inflating: /dataset-project/dataset/soil/landscape_0362.jpg  \n",
            "  inflating: /dataset-project/dataset/soil/landscape_0363.jpg  \n",
            "  inflating: /dataset-project/dataset/soil/landscape_0364.jpg  \n",
            "  inflating: /dataset-project/dataset/soil/landscape_0365.jpg  \n",
            "  inflating: /dataset-project/dataset/soil/landscape_0366.jpg  \n",
            "  inflating: /dataset-project/dataset/soil/landscape_0367.jpg  \n",
            "  inflating: /dataset-project/dataset/soil/landscape_0368.jpg  \n",
            "  inflating: /dataset-project/dataset/soil/landscape_0369.jpg  \n",
            "  inflating: /dataset-project/dataset/soil/landscape_0370.jpg  \n",
            "  inflating: /dataset-project/dataset/soil/landscape_0371.jpg  \n",
            "  inflating: /dataset-project/dataset/soil/landscape_0372.jpg  \n",
            "  inflating: /dataset-project/dataset/soil/landscape_0373.jpg  \n",
            "  inflating: /dataset-project/dataset/soil/landscape_0374.jpg  \n",
            "  inflating: /dataset-project/dataset/soil/landscape_0375.jpg  \n",
            "  inflating: /dataset-project/dataset/soil/landscape_0376.jpg  \n",
            "  inflating: /dataset-project/dataset/soil/landscape_0377.jpg  \n",
            "  inflating: /dataset-project/dataset/soil/landscape_0378.jpg  \n",
            "  inflating: /dataset-project/dataset/soil/landscape_0379.jpg  \n",
            "  inflating: /dataset-project/dataset/soil/landscape_0380.jpg  \n",
            "  inflating: /dataset-project/dataset/soil/landscape_0382.jpg  \n",
            "  inflating: /dataset-project/dataset/soil/landscape_0383.jpg  \n",
            "  inflating: /dataset-project/dataset/soil/landscape_0384.jpg  \n",
            "  inflating: /dataset-project/dataset/soil/landscape_0386.jpg  \n",
            "  inflating: /dataset-project/dataset/soil/landscape_0387.jpg  \n",
            "  inflating: /dataset-project/dataset/soil/landscape_0388.jpg  \n",
            "  inflating: /dataset-project/dataset/soil/landscape_0389.jpg  \n",
            "  inflating: /dataset-project/dataset/soil/landscape_0390.jpg  \n",
            "  inflating: /dataset-project/dataset/soil/landscape_0391.jpg  \n",
            "  inflating: /dataset-project/dataset/soil/landscape_0392.jpg  \n",
            "  inflating: /dataset-project/dataset/soil/landscape_0393.jpg  \n",
            "  inflating: /dataset-project/dataset/soil/landscape_0395.jpg  \n",
            "  inflating: /dataset-project/dataset/soil/landscape_0396.jpg  \n",
            "  inflating: /dataset-project/dataset/soil/landscape_0397.jpg  \n",
            "  inflating: /dataset-project/dataset/soil/landscape_0398.jpg  \n",
            "  inflating: /dataset-project/dataset/soil/landscape_0399.jpg  \n",
            "  inflating: /dataset-project/dataset/soil/landscape_0400.jpg  \n",
            "  inflating: /dataset-project/dataset/soil/landscape_0401.jpg  \n",
            "  inflating: /dataset-project/dataset/soil/landscape_0402.jpg  \n",
            "  inflating: /dataset-project/dataset/soil/landscape_0403.jpg  \n",
            "  inflating: /dataset-project/dataset/soil/landscape_0404.jpg  \n",
            "  inflating: /dataset-project/dataset/soil/landscape_0405.jpg  \n",
            "  inflating: /dataset-project/dataset/soil/landscape_0407.jpg  \n",
            "  inflating: /dataset-project/dataset/soil/landscape_0408.jpg  \n",
            "  inflating: /dataset-project/dataset/soil/landscape_0414.jpg  \n",
            "  inflating: /dataset-project/dataset/soil/landscape_0417.jpg  \n",
            "  inflating: /dataset-project/dataset/soil/landscape_0418.jpg  \n",
            "  inflating: /dataset-project/dataset/soil/landscape_0419.jpg  \n",
            "  inflating: /dataset-project/dataset/soil/landscape_0420.jpg  \n",
            "  inflating: /dataset-project/dataset/soil/landscape_0421.jpg  \n",
            "  inflating: /dataset-project/dataset/soil/landscape_0422.jpg  \n",
            "  inflating: /dataset-project/dataset/soil/landscape_0423.jpg  \n",
            "  inflating: /dataset-project/dataset/soil/landscape_0425.jpg  \n",
            "  inflating: /dataset-project/dataset/soil/landscape_0426.jpg  \n",
            "  inflating: /dataset-project/dataset/soil/landscape_0427.jpg  \n",
            "  inflating: /dataset-project/dataset/soil/landscape_0428.jpg  \n",
            "  inflating: /dataset-project/dataset/soil/landscape_0430.jpg  \n",
            "  inflating: /dataset-project/dataset/soil/landscape_0431.jpg  \n",
            "  inflating: /dataset-project/dataset/soil/landscape_0432.jpg  \n",
            "  inflating: /dataset-project/dataset/soil/landscape_0436.jpg  \n",
            "  inflating: /dataset-project/dataset/soil/landscape_0438.jpg  \n",
            "  inflating: /dataset-project/dataset/soil/landscape_0439.jpg  \n",
            "  inflating: /dataset-project/dataset/soil/landscape_0441.jpg  \n",
            "  inflating: /dataset-project/dataset/soil/landscape_0442.jpg  \n",
            "  inflating: /dataset-project/dataset/soil/landscape_0443.jpg  \n",
            "  inflating: /dataset-project/dataset/soil/landscape_0444.jpg  \n",
            "  inflating: /dataset-project/dataset/soil/landscape_0450.jpg  \n",
            "  inflating: /dataset-project/dataset/soil/landscape_0451.jpg  \n",
            "  inflating: /dataset-project/dataset/soil/landscape_0455.jpg  \n",
            "  inflating: /dataset-project/dataset/soil/landscape_0459.jpg  \n",
            "  inflating: /dataset-project/dataset/soil/landscape_0464.jpg  \n",
            "  inflating: /dataset-project/dataset/soil/landscape_0466.jpg  \n",
            "  inflating: /dataset-project/dataset/soil/landscape_0468.jpg  \n",
            "  inflating: /dataset-project/dataset/soil/landscape_0469.jpg  \n",
            "  inflating: /dataset-project/dataset/soil/landscape_0470.jpg  \n",
            "  inflating: /dataset-project/dataset/soil/landscape_0472.jpg  \n",
            "  inflating: /dataset-project/dataset/soil/landscape_0473.jpg  \n",
            "  inflating: /dataset-project/dataset/soil/landscape_0474.jpg  \n",
            "  inflating: /dataset-project/dataset/soil/landscape_0475.jpg  \n",
            "  inflating: /dataset-project/dataset/soil/landscape_0481.jpg  \n",
            "  inflating: /dataset-project/dataset/soil/soil3_0001.jpg  \n",
            "  inflating: /dataset-project/dataset/soil/soil3_0002.jpg  \n",
            "  inflating: /dataset-project/dataset/soil/soil3_0003.jpg  \n",
            "  inflating: /dataset-project/dataset/soil/soil3_0004.jpg  \n",
            "  inflating: /dataset-project/dataset/soil/soil3_0005.jpg  \n",
            "  inflating: /dataset-project/dataset/soil/soil3_0007.jpg  \n",
            "  inflating: /dataset-project/dataset/soil/soil3_0008.jpg  \n",
            "  inflating: /dataset-project/dataset/soil/soil3_0010.jpg  \n",
            "  inflating: /dataset-project/dataset/soil/soil3_0011.jpg  \n",
            "  inflating: /dataset-project/dataset/soil/soil3_0012.jpg  \n",
            "  inflating: /dataset-project/dataset/soil/soil3_0013.jpg  \n",
            "  inflating: /dataset-project/dataset/soil/soil3_0014.jpg  \n",
            "  inflating: /dataset-project/dataset/soil/soil3_0015.jpg  \n",
            "  inflating: /dataset-project/dataset/soil/soil3_0016.jpg  \n",
            "  inflating: /dataset-project/dataset/soil/soil3_0017.jpg  \n",
            "  inflating: /dataset-project/dataset/soil/soil3_0018.jpg  \n",
            "  inflating: /dataset-project/dataset/soil/soil3_0019.jpg  \n",
            "  inflating: /dataset-project/dataset/soil/soil3_0020.jpg  \n",
            "  inflating: /dataset-project/dataset/soil/soil3_0021.jpg  \n",
            "  inflating: /dataset-project/dataset/soil/soil3_0022.jpg  \n",
            "  inflating: /dataset-project/dataset/soil/soil3_0024.jpg  \n",
            "  inflating: /dataset-project/dataset/soil/soil3_0025.jpg  \n",
            "  inflating: /dataset-project/dataset/soil/soil3_0026.jpg  \n",
            "  inflating: /dataset-project/dataset/soil/soil3_0027.jpg  \n",
            "  inflating: /dataset-project/dataset/soil/soil3_0028.jpg  \n",
            "  inflating: /dataset-project/dataset/soil/soil3_0029.jpg  \n",
            "  inflating: /dataset-project/dataset/soil/soil3_0030.jpg  \n",
            "  inflating: /dataset-project/dataset/soil/soil3_0031.jpg  \n",
            "  inflating: /dataset-project/dataset/soil/soil3_0032.jpg  \n",
            "  inflating: /dataset-project/dataset/soil/soil3_0033.jpg  \n",
            "  inflating: /dataset-project/dataset/soil/soil3_0034.jpg  \n",
            "  inflating: /dataset-project/dataset/soil/soil3_0035.jpg  \n",
            "  inflating: /dataset-project/dataset/soil/soil3_0038.jpg  \n",
            "  inflating: /dataset-project/dataset/soil/soil3_0039.jpg  \n",
            "  inflating: /dataset-project/dataset/soil/soil3_0041.jpg  \n",
            "  inflating: /dataset-project/dataset/soil/soil3_0042.jpg  \n",
            "  inflating: /dataset-project/dataset/soil/soil3_0043.jpg  \n",
            "  inflating: /dataset-project/dataset/soil/soil3_0044.jpg  \n",
            "  inflating: /dataset-project/dataset/soil/soil3_0045.jpg  \n",
            "  inflating: /dataset-project/dataset/soil/soil3_0048.jpg  \n",
            "  inflating: /dataset-project/dataset/soil/soil3_0054.jpg  \n",
            "  inflating: /dataset-project/dataset/soil/soil3_0056.jpg  \n",
            "  inflating: /dataset-project/dataset/soil/soil3_0059.jpg  \n",
            "  inflating: /dataset-project/dataset/soil/soil3_0060.jpg  \n",
            "  inflating: /dataset-project/dataset/soil/soil3_0061.jpg  \n",
            "  inflating: /dataset-project/dataset/soil/soil3_0063.jpg  \n",
            "  inflating: /dataset-project/dataset/soil/soil3_0064.jpg  \n",
            "  inflating: /dataset-project/dataset/soil/soil3_0067.jpg  \n",
            "  inflating: /dataset-project/dataset/soil/soil3_0068.jpg  \n",
            "  inflating: /dataset-project/dataset/soil/soil3_0070.jpg  \n",
            "  inflating: /dataset-project/dataset/soil/soil3_0071.jpg  \n",
            "  inflating: /dataset-project/dataset/soil/soil3_0072.jpg  \n",
            "  inflating: /dataset-project/dataset/soil/soil3_0073.jpg  \n",
            "  inflating: /dataset-project/dataset/soil/soil3_0074.jpg  \n",
            "  inflating: /dataset-project/dataset/soil/soil3_0076.jpg  \n",
            "  inflating: /dataset-project/dataset/soil/soil3_0077.jpg  \n",
            "  inflating: /dataset-project/dataset/soil/soil3_0078.jpg  \n",
            "  inflating: /dataset-project/dataset/soil/soil3_0080.jpg  \n",
            "  inflating: /dataset-project/dataset/soil/soil3_0082.jpg  \n",
            "  inflating: /dataset-project/dataset/soil/soil3_0085.jpg  \n",
            "  inflating: /dataset-project/dataset/soil/soil3_0087.jpg  \n",
            "  inflating: /dataset-project/dataset/soil/soil3_0088.jpg  \n",
            "  inflating: /dataset-project/dataset/soil/soil3_0089.jpg  \n",
            "  inflating: /dataset-project/dataset/soil/soil3_0090.jpg  \n",
            "  inflating: /dataset-project/dataset/soil/soil3_0091.jpg  \n",
            "  inflating: /dataset-project/dataset/soil/soil3_0092.jpg  \n",
            "  inflating: /dataset-project/dataset/soil/soil3_0094.jpg  \n",
            "  inflating: /dataset-project/dataset/soil/soil3_0096.jpg  \n",
            "  inflating: /dataset-project/dataset/soil/soil3_0097.jpg  \n",
            "  inflating: /dataset-project/dataset/soil/soil3_0099.jpg  \n",
            "  inflating: /dataset-project/dataset/soil/soil3_0101.jpg  \n",
            "  inflating: /dataset-project/dataset/soil/soil3_0102.jpg  \n",
            "  inflating: /dataset-project/dataset/soil/soil3_0103.jpg  \n",
            "  inflating: /dataset-project/dataset/soil/soil3_0104.jpg  \n",
            "  inflating: /dataset-project/dataset/soil/soil3_0105.jpg  \n",
            "  inflating: /dataset-project/dataset/soil/soil3_0106.jpg  \n",
            "  inflating: /dataset-project/dataset/soil/soil3_0107.jpg  \n",
            "  inflating: /dataset-project/dataset/soil/soil3_0108.jpg  \n",
            "  inflating: /dataset-project/dataset/soil/soil3_0109.jpg  \n",
            "  inflating: /dataset-project/dataset/soil/soil3_0111.jpg  \n",
            "  inflating: /dataset-project/dataset/soil/soil3_0113.jpg  \n",
            "  inflating: /dataset-project/dataset/soil/soil3_0114.jpg  \n",
            "  inflating: /dataset-project/dataset/soil/soil3_0115.jpg  \n",
            "  inflating: /dataset-project/dataset/soil/soil3_0116.jpg  \n",
            "  inflating: /dataset-project/dataset/soil/soil3_0117.jpg  \n",
            "  inflating: /dataset-project/dataset/soil/soil3_0118.jpg  \n",
            "  inflating: /dataset-project/dataset/soil/soil3_0120.jpg  \n",
            "  inflating: /dataset-project/dataset/soil/soil3_0121.jpg  \n",
            "  inflating: /dataset-project/dataset/soil/soil3_0122.jpg  \n",
            "  inflating: /dataset-project/dataset/soil/soil3_0124.jpg  \n",
            "  inflating: /dataset-project/dataset/soil/soil3_0125.jpg  \n",
            "  inflating: /dataset-project/dataset/soil/soil3_0126.jpg  \n",
            "  inflating: /dataset-project/dataset/soil/soil3_0127.jpg  \n",
            "  inflating: /dataset-project/dataset/soil/soil3_0128.jpg  \n",
            "  inflating: /dataset-project/dataset/soil/soil3_0129.jpg  \n",
            "  inflating: /dataset-project/dataset/soil/soil3_0130.jpg  \n",
            "  inflating: /dataset-project/dataset/soil/soil3_0131.jpg  \n",
            "  inflating: /dataset-project/dataset/soil/soil3_0132.jpg  \n",
            "  inflating: /dataset-project/dataset/soil/soil3_0150.jpg  \n",
            "  inflating: /dataset-project/dataset/soil/soil3_0151.jpg  \n",
            "  inflating: /dataset-project/dataset/soil/soil3_0152.jpg  \n",
            "  inflating: /dataset-project/dataset/soil/soil3_0153.jpg  \n",
            "  inflating: /dataset-project/dataset/soil/soil3_0155.jpg  \n",
            "  inflating: /dataset-project/dataset/soil/soil3_0159.jpg  \n",
            "  inflating: /dataset-project/dataset/soil/soil3_0166.jpg  \n",
            "  inflating: /dataset-project/dataset/soil/soil3_0168.jpg  \n",
            "  inflating: /dataset-project/dataset/soil/soil3_0172.jpg  \n",
            "  inflating: /dataset-project/dataset/soil/soil3_0175.jpg  \n",
            "  inflating: /dataset-project/dataset/soil/soil3_0177.jpg  \n",
            "  inflating: /dataset-project/dataset/soil/soil3_0178.jpg  \n",
            "  inflating: /dataset-project/dataset/soil/soil3_0179.jpg  \n",
            "  inflating: /dataset-project/dataset/soil/soil3_0181.jpg  \n",
            "  inflating: /dataset-project/dataset/soil/soil3_0182.jpg  \n",
            "  inflating: /dataset-project/dataset/soil/soil3_0183.jpg  \n",
            "  inflating: /dataset-project/dataset/soil/soil3_0184.jpg  \n",
            "  inflating: /dataset-project/dataset/soil/soil3_0185.jpg  \n",
            "  inflating: /dataset-project/dataset/soil/soil3_0186.jpg  \n",
            "  inflating: /dataset-project/dataset/soil/soil3_0187.jpg  \n",
            "  inflating: /dataset-project/dataset/soil/soil3_0188.jpg  \n",
            "  inflating: /dataset-project/dataset/soil/soil3_0189.jpg  \n",
            "  inflating: /dataset-project/dataset/soil/soil3_0190.jpg  \n",
            "  inflating: /dataset-project/dataset/soil/soil3_0191.jpg  \n",
            "  inflating: /dataset-project/dataset/soil/soil3_0192.jpg  \n",
            "  inflating: /dataset-project/dataset/soil/soil3_0193.jpg  \n",
            "  inflating: /dataset-project/dataset/soil/soil3_0194.jpg  \n",
            "  inflating: /dataset-project/dataset/soil/soil3_0195.jpg  \n",
            "  inflating: /dataset-project/dataset/soil/soil3_0212.jpg  \n",
            "  inflating: /dataset-project/dataset/soil/soil3_0216.jpg  \n",
            "  inflating: /dataset-project/dataset/soil/soil3_0217.jpg  \n",
            "  inflating: /dataset-project/dataset/soil/soil3_0219.jpg  \n",
            "  inflating: /dataset-project/dataset/soil/soil3_0222.jpg  \n",
            "  inflating: /dataset-project/dataset/soil/soil3_0226.jpg  \n",
            "  inflating: /dataset-project/dataset/soil/soil3_0228.jpg  \n",
            "  inflating: /dataset-project/dataset/soil/soil3_0231.jpg  \n",
            "  inflating: /dataset-project/dataset/soil/soil3_0234.jpg  \n",
            "  inflating: /dataset-project/dataset/soil/soil3_0239.jpg  \n",
            "  inflating: /dataset-project/dataset/soil/soil3_0241.jpg  \n",
            "  inflating: /dataset-project/dataset/soil/soil3_0243.jpg  \n",
            "  inflating: /dataset-project/dataset/soil/soil3_0246.jpg  \n",
            "  inflating: /dataset-project/dataset/soil/soil3_0248.jpg  \n",
            "  inflating: /dataset-project/dataset/soil/soil3_0253.jpg  \n",
            "  inflating: /dataset-project/dataset/soil/soil3_0254.jpg  \n",
            "  inflating: /dataset-project/dataset/soil/soil3_0256.jpg  \n",
            "  inflating: /dataset-project/dataset/soil/soil3_0257.jpg  \n",
            "  inflating: /dataset-project/dataset/soil/soil3_0258.jpg  \n",
            "  inflating: /dataset-project/dataset/soil/soil3_0261.jpg  \n",
            "  inflating: /dataset-project/dataset/soil/soil3_0262.jpg  \n",
            "  inflating: /dataset-project/dataset/soil/soil3_0263.jpg  \n",
            "  inflating: /dataset-project/dataset/soil/soil3_0264.jpg  \n",
            "  inflating: /dataset-project/dataset/soil/soil3_0267.jpg  \n",
            "  inflating: /dataset-project/dataset/soil/soil3_0268.jpg  \n",
            "  inflating: /dataset-project/dataset/soil/soil3_0270.jpg  \n"
          ]
        }
      ]
    },
    {
      "cell_type": "markdown",
      "source": [
        "**LOADING DATASET**"
      ],
      "metadata": {
        "id": "qLCzlcd35l7w"
      }
    },
    {
      "cell_type": "code",
      "source": [
        "data_dir = '/dataset-project/dataset'\n",
        "img_size = (180, 180)\n",
        "batch_size = 32"
      ],
      "metadata": {
        "id": "jyIfQmxlI4zl"
      },
      "execution_count": 3,
      "outputs": []
    },
    {
      "cell_type": "markdown",
      "source": [
        "**SPLITTING THE DATASET**"
      ],
      "metadata": {
        "id": "7tn-487T53Rl"
      }
    },
    {
      "cell_type": "code",
      "source": [
        "full_ds = tf.keras.utils.image_dataset_from_directory(\n",
        "    data_dir,\n",
        "    image_size=img_size,\n",
        "    batch_size=batch_size,\n",
        "    shuffle=True\n",
        ")\n",
        "total_batch = tf.data.experimental.cardinality(full_ds).numpy()\n",
        "train_size = int(0.8 * total_batch)\n",
        "val_size = int(0.1 * total_batch)\n",
        "\n",
        "train_ds = full_ds.take(train_size)\n",
        "val_ds = full_ds.skip(train_size).take(val_size)\n",
        "test_ds = full_ds.skip(train_size + val_size)\n",
        "class_names = full_ds.class_names\n",
        "print(\"Classes: \", class_names)\n",
        "\n",
        "# train_ds = image_dataset_from_directory(\n",
        "#     data_dir,\n",
        "#     validation_split=0.2,\n",
        "#     subset='training',\n",
        "#     seed=123,\n",
        "#     image_size=img_size,\n",
        "#     batch_size=batch_size\n",
        "# )\n",
        "# val_test_ds = image_dataset_from_directory(\n",
        "#     data_dir,\n",
        "#     validation_split=0.2,\n",
        "#     subset='validation',\n",
        "#     seed=123,\n",
        "#     image_size=img_size,\n",
        "#     batch_size=batch_size\n",
        "# )\n",
        "# val_size = int(0.5 * len(val_test_ds))\n",
        "# val_ds = val_test_ds.take(val_size)\n",
        "# test_ds = val_test_ds.skip(val_size)"
      ],
      "metadata": {
        "colab": {
          "base_uri": "https://localhost:8080/"
        },
        "id": "YhXMgFtjJfJZ",
        "outputId": "d98c2b6a-7ac4-4efe-bb62-e6aaf8e02a35"
      },
      "execution_count": 4,
      "outputs": [
        {
          "output_type": "stream",
          "name": "stdout",
          "text": [
            "Found 725 files belonging to 3 classes.\n",
            "Classes:  ['damage', 'floor', 'soil']\n"
          ]
        }
      ]
    },
    {
      "cell_type": "markdown",
      "source": [
        "**DATA AUGMENTATION**"
      ],
      "metadata": {
        "id": "aQc0oncI58kp"
      }
    },
    {
      "cell_type": "code",
      "source": [
        "data_augmentation = tf.keras.Sequential([\n",
        "    layers.RandomFlip('horizontal'),\n",
        "    layers.RandomRotation(0.2),\n",
        "    layers.RandomZoom(0.2)\n",
        "])"
      ],
      "metadata": {
        "id": "oAcn7WZzLUuL"
      },
      "execution_count": 5,
      "outputs": []
    },
    {
      "cell_type": "markdown",
      "source": [
        "**NORMALIZE INPUT**"
      ],
      "metadata": {
        "id": "XRp84Nf1uOul"
      }
    },
    {
      "cell_type": "code",
      "source": [
        "# def normalize_img(image, label):\n",
        "#     image = tf.cast(image, tf.float32)/255.0\n",
        "#     return image, label\n",
        "# train_ds = train_ds.map(normalize_img)\n",
        "# val_ds = val_ds.map(normalize_img)\n",
        "# test_ds = test_ds.map(normalize_img)\n",
        "\n",
        "normalization_layer = layers.Rescaling(1./255)\n",
        "train_ds = train_ds.map(lambda x, y: (normalization_layer(x), y))\n",
        "val_ds = val_ds.map(lambda x, y: (normalization_layer(x), y))\n",
        "test_ds = test_ds.map(lambda x, y: (normalization_layer(x), y))"
      ],
      "metadata": {
        "id": "CN3j7yTtJ-iF"
      },
      "execution_count": 6,
      "outputs": []
    },
    {
      "cell_type": "markdown",
      "source": [
        "**OPTIMIZE THE DATA PIPELINE**"
      ],
      "metadata": {
        "id": "YMcUUSuJ6I3a"
      }
    },
    {
      "cell_type": "code",
      "source": [
        "AUTOTUNE = tf.data.AUTOTUNE\n",
        "train_ds = train_ds.shuffle(1000).cache().prefetch(buffer_size=AUTOTUNE)\n",
        "val_ds = val_ds.cache().prefetch(buffer_size=AUTOTUNE)\n",
        "test_ds = test_ds.cache().prefetch(buffer_size=AUTOTUNE)"
      ],
      "metadata": {
        "id": "Upr1e5DfKijw"
      },
      "execution_count": 7,
      "outputs": []
    },
    {
      "cell_type": "markdown",
      "source": [
        "***BUILD MODEL***"
      ],
      "metadata": {
        "id": "-hBO1Y186WLY"
      }
    },
    {
      "cell_type": "code",
      "source": [
        "\n",
        "model = models.Sequential([\n",
        "    data_augmentation,\n",
        "    layers.Conv2D(32, (3, 3), activation='relu', input_shape=img_size+(3,)),\n",
        "    layers.MaxPooling2D(),\n",
        "    layers.Conv2D(64, (3, 3), activation='relu'),\n",
        "    layers.MaxPooling2D(),\n",
        "    layers.Conv2D(128, (3, 3), activation='relu'),\n",
        "    layers.MaxPooling2D(),\n",
        "    layers.Flatten(),\n",
        "    layers.Dense(128, activation='relu'),\n",
        "    layers.Dropout(0.4),\n",
        "    layers.Dense(len(class_names), activation='softmax')\n",
        "])"
      ],
      "metadata": {
        "colab": {
          "base_uri": "https://localhost:8080/"
        },
        "id": "SqdqArfVLkd0",
        "outputId": "532995f8-b9d0-4d30-bac1-8b096ff69d7c"
      },
      "execution_count": 8,
      "outputs": [
        {
          "output_type": "stream",
          "name": "stderr",
          "text": [
            "/usr/local/lib/python3.12/dist-packages/keras/src/layers/convolutional/base_conv.py:113: UserWarning: Do not pass an `input_shape`/`input_dim` argument to a layer. When using Sequential models, prefer using an `Input(shape)` object as the first layer in the model instead.\n",
            "  super().__init__(activity_regularizer=activity_regularizer, **kwargs)\n"
          ]
        }
      ]
    },
    {
      "cell_type": "markdown",
      "source": [
        "**COMPILE WITH ADAM OPTIMIZER**"
      ],
      "metadata": {
        "id": "vOkRk8of6ccl"
      }
    },
    {
      "cell_type": "code",
      "source": [
        "optimizer = tf.keras.optimizers.Adam(learning_rate=0.0005)\n",
        "model.compile(optimizer=optimizer,\n",
        "              loss='sparse_categorical_crossentropy',\n",
        "              metrics=['accuracy'])"
      ],
      "metadata": {
        "id": "IgHHhj9TMkcb"
      },
      "execution_count": 9,
      "outputs": []
    },
    {
      "cell_type": "markdown",
      "source": [
        "**CALLBACKS**"
      ],
      "metadata": {
        "id": "ioYJaCfkwnyL"
      }
    },
    {
      "cell_type": "code",
      "source": [
        "lr_scheduler = tf.keras.callbacks.ReduceLROnPlateau(\n",
        "    monitor='val_loss',\n",
        "    factor=0.2,\n",
        "    patience=5,\n",
        "    min_lr=0.00001,\n",
        "    verbose=1\n",
        ")\n",
        "early_stopping = EarlyStopping(\n",
        "    monitor='val_loss',\n",
        "    patience=5,\n",
        "    restore_best_weights=True\n",
        ")"
      ],
      "metadata": {
        "id": "CwUVxNHTv-VK"
      },
      "execution_count": 10,
      "outputs": []
    },
    {
      "cell_type": "code",
      "source": [
        "history = model.fit(train_ds,\n",
        "                    validation_data=val_ds,\n",
        "                    epochs=30,\n",
        "                    callbacks=[lr_scheduler, early_stopping])"
      ],
      "metadata": {
        "colab": {
          "base_uri": "https://localhost:8080/"
        },
        "id": "HGOnDgcENIDg",
        "outputId": "84af8018-1de8-4943-f3f1-e76bd91d1044"
      },
      "execution_count": 11,
      "outputs": [
        {
          "output_type": "stream",
          "name": "stdout",
          "text": [
            "Epoch 1/30\n",
            "\u001b[1m18/18\u001b[0m \u001b[32m━━━━━━━━━━━━━━━━━━━━\u001b[0m\u001b[37m\u001b[0m \u001b[1m12s\u001b[0m 213ms/step - accuracy: 0.7030 - loss: 0.7022 - val_accuracy: 0.8438 - val_loss: 0.4343 - learning_rate: 5.0000e-04\n",
            "Epoch 2/30\n",
            "\u001b[1m18/18\u001b[0m \u001b[32m━━━━━━━━━━━━━━━━━━━━\u001b[0m\u001b[37m\u001b[0m \u001b[1m1s\u001b[0m 41ms/step - accuracy: 0.8599 - loss: 0.4626 - val_accuracy: 0.8438 - val_loss: 0.2750 - learning_rate: 5.0000e-04\n",
            "Epoch 3/30\n",
            "\u001b[1m18/18\u001b[0m \u001b[32m━━━━━━━━━━━━━━━━━━━━\u001b[0m\u001b[37m\u001b[0m \u001b[1m1s\u001b[0m 39ms/step - accuracy: 0.9208 - loss: 0.2448 - val_accuracy: 0.9844 - val_loss: 0.0936 - learning_rate: 5.0000e-04\n",
            "Epoch 4/30\n",
            "\u001b[1m18/18\u001b[0m \u001b[32m━━━━━━━━━━━━━━━━━━━━\u001b[0m\u001b[37m\u001b[0m \u001b[1m1s\u001b[0m 37ms/step - accuracy: 0.9594 - loss: 0.1584 - val_accuracy: 0.9844 - val_loss: 0.0238 - learning_rate: 5.0000e-04\n",
            "Epoch 5/30\n",
            "\u001b[1m18/18\u001b[0m \u001b[32m━━━━━━━━━━━━━━━━━━━━\u001b[0m\u001b[37m\u001b[0m \u001b[1m1s\u001b[0m 37ms/step - accuracy: 0.9702 - loss: 0.0829 - val_accuracy: 1.0000 - val_loss: 0.0113 - learning_rate: 5.0000e-04\n",
            "Epoch 6/30\n",
            "\u001b[1m18/18\u001b[0m \u001b[32m━━━━━━━━━━━━━━━━━━━━\u001b[0m\u001b[37m\u001b[0m \u001b[1m1s\u001b[0m 37ms/step - accuracy: 0.9763 - loss: 0.0835 - val_accuracy: 1.0000 - val_loss: 0.0062 - learning_rate: 5.0000e-04\n",
            "Epoch 7/30\n",
            "\u001b[1m18/18\u001b[0m \u001b[32m━━━━━━━━━━━━━━━━━━━━\u001b[0m\u001b[37m\u001b[0m \u001b[1m1s\u001b[0m 36ms/step - accuracy: 0.9870 - loss: 0.0259 - val_accuracy: 1.0000 - val_loss: 0.0011 - learning_rate: 5.0000e-04\n",
            "Epoch 8/30\n",
            "\u001b[1m18/18\u001b[0m \u001b[32m━━━━━━━━━━━━━━━━━━━━\u001b[0m\u001b[37m\u001b[0m \u001b[1m1s\u001b[0m 34ms/step - accuracy: 0.9867 - loss: 0.0420 - val_accuracy: 1.0000 - val_loss: 0.0088 - learning_rate: 5.0000e-04\n",
            "Epoch 9/30\n",
            "\u001b[1m18/18\u001b[0m \u001b[32m━━━━━━━━━━━━━━━━━━━━\u001b[0m\u001b[37m\u001b[0m \u001b[1m1s\u001b[0m 35ms/step - accuracy: 0.9909 - loss: 0.0476 - val_accuracy: 1.0000 - val_loss: 0.0043 - learning_rate: 5.0000e-04\n",
            "Epoch 10/30\n",
            "\u001b[1m18/18\u001b[0m \u001b[32m━━━━━━━━━━━━━━━━━━━━\u001b[0m\u001b[37m\u001b[0m \u001b[1m1s\u001b[0m 38ms/step - accuracy: 0.9950 - loss: 0.0184 - val_accuracy: 1.0000 - val_loss: 1.9361e-04 - learning_rate: 5.0000e-04\n",
            "Epoch 11/30\n",
            "\u001b[1m18/18\u001b[0m \u001b[32m━━━━━━━━━━━━━━━━━━━━\u001b[0m\u001b[37m\u001b[0m \u001b[1m1s\u001b[0m 39ms/step - accuracy: 0.9904 - loss: 0.0220 - val_accuracy: 1.0000 - val_loss: 7.8387e-05 - learning_rate: 5.0000e-04\n",
            "Epoch 12/30\n",
            "\u001b[1m18/18\u001b[0m \u001b[32m━━━━━━━━━━━━━━━━━━━━\u001b[0m\u001b[37m\u001b[0m \u001b[1m1s\u001b[0m 40ms/step - accuracy: 0.9934 - loss: 0.0128 - val_accuracy: 1.0000 - val_loss: 1.2717e-04 - learning_rate: 5.0000e-04\n",
            "Epoch 13/30\n",
            "\u001b[1m18/18\u001b[0m \u001b[32m━━━━━━━━━━━━━━━━━━━━\u001b[0m\u001b[37m\u001b[0m \u001b[1m1s\u001b[0m 36ms/step - accuracy: 0.9962 - loss: 0.0137 - val_accuracy: 1.0000 - val_loss: 8.2261e-04 - learning_rate: 5.0000e-04\n",
            "Epoch 14/30\n",
            "\u001b[1m18/18\u001b[0m \u001b[32m━━━━━━━━━━━━━━━━━━━━\u001b[0m\u001b[37m\u001b[0m \u001b[1m1s\u001b[0m 36ms/step - accuracy: 0.9974 - loss: 0.0110 - val_accuracy: 1.0000 - val_loss: 6.5971e-05 - learning_rate: 5.0000e-04\n",
            "Epoch 15/30\n",
            "\u001b[1m18/18\u001b[0m \u001b[32m━━━━━━━━━━━━━━━━━━━━\u001b[0m\u001b[37m\u001b[0m \u001b[1m1s\u001b[0m 36ms/step - accuracy: 0.9983 - loss: 0.0065 - val_accuracy: 1.0000 - val_loss: 4.0917e-05 - learning_rate: 5.0000e-04\n",
            "Epoch 16/30\n",
            "\u001b[1m17/18\u001b[0m \u001b[32m━━━━━━━━━━━━━━━━━━\u001b[0m\u001b[37m━━\u001b[0m \u001b[1m0s\u001b[0m 33ms/step - accuracy: 0.9995 - loss: 0.0048\n",
            "Epoch 16: ReduceLROnPlateau reducing learning rate to 0.00010000000474974513.\n",
            "\u001b[1m18/18\u001b[0m \u001b[32m━━━━━━━━━━━━━━━━━━━━\u001b[0m\u001b[37m\u001b[0m \u001b[1m1s\u001b[0m 37ms/step - accuracy: 0.9994 - loss: 0.0047 - val_accuracy: 1.0000 - val_loss: 9.0819e-05 - learning_rate: 5.0000e-04\n",
            "Epoch 17/30\n",
            "\u001b[1m18/18\u001b[0m \u001b[32m━━━━━━━━━━━━━━━━━━━━\u001b[0m\u001b[37m\u001b[0m \u001b[1m1s\u001b[0m 35ms/step - accuracy: 0.9929 - loss: 0.0291 - val_accuracy: 1.0000 - val_loss: 7.2115e-05 - learning_rate: 1.0000e-04\n",
            "Epoch 18/30\n",
            "\u001b[1m18/18\u001b[0m \u001b[32m━━━━━━━━━━━━━━━━━━━━\u001b[0m\u001b[37m\u001b[0m \u001b[1m1s\u001b[0m 37ms/step - accuracy: 0.9979 - loss: 0.0061 - val_accuracy: 1.0000 - val_loss: 3.0102e-05 - learning_rate: 1.0000e-04\n",
            "Epoch 19/30\n",
            "\u001b[1m18/18\u001b[0m \u001b[32m━━━━━━━━━━━━━━━━━━━━\u001b[0m\u001b[37m\u001b[0m \u001b[1m1s\u001b[0m 36ms/step - accuracy: 0.9975 - loss: 0.0043 - val_accuracy: 1.0000 - val_loss: 2.3013e-05 - learning_rate: 1.0000e-04\n",
            "Epoch 20/30\n",
            "\u001b[1m18/18\u001b[0m \u001b[32m━━━━━━━━━━━━━━━━━━━━\u001b[0m\u001b[37m\u001b[0m \u001b[1m1s\u001b[0m 37ms/step - accuracy: 0.9997 - loss: 0.0041 - val_accuracy: 1.0000 - val_loss: 1.9023e-05 - learning_rate: 1.0000e-04\n",
            "Epoch 21/30\n",
            "\u001b[1m17/18\u001b[0m \u001b[32m━━━━━━━━━━━━━━━━━━\u001b[0m\u001b[37m━━\u001b[0m \u001b[1m0s\u001b[0m 34ms/step - accuracy: 0.9897 - loss: 0.0209\n",
            "Epoch 21: ReduceLROnPlateau reducing learning rate to 2.0000000949949027e-05.\n",
            "\u001b[1m18/18\u001b[0m \u001b[32m━━━━━━━━━━━━━━━━━━━━\u001b[0m\u001b[37m\u001b[0m \u001b[1m1s\u001b[0m 36ms/step - accuracy: 0.9900 - loss: 0.0201 - val_accuracy: 1.0000 - val_loss: 2.8734e-05 - learning_rate: 1.0000e-04\n",
            "Epoch 22/30\n",
            "\u001b[1m18/18\u001b[0m \u001b[32m━━━━━━━━━━━━━━━━━━━━\u001b[0m\u001b[37m\u001b[0m \u001b[1m1s\u001b[0m 35ms/step - accuracy: 0.9972 - loss: 0.0073 - val_accuracy: 1.0000 - val_loss: 2.3704e-05 - learning_rate: 2.0000e-05\n",
            "Epoch 23/30\n",
            "\u001b[1m18/18\u001b[0m \u001b[32m━━━━━━━━━━━━━━━━━━━━\u001b[0m\u001b[37m\u001b[0m \u001b[1m1s\u001b[0m 35ms/step - accuracy: 0.9986 - loss: 0.0035 - val_accuracy: 1.0000 - val_loss: 2.1749e-05 - learning_rate: 2.0000e-05\n",
            "Epoch 24/30\n",
            "\u001b[1m18/18\u001b[0m \u001b[32m━━━━━━━━━━━━━━━━━━━━\u001b[0m\u001b[37m\u001b[0m \u001b[1m1s\u001b[0m 37ms/step - accuracy: 0.9991 - loss: 0.0056 - val_accuracy: 1.0000 - val_loss: 2.1760e-05 - learning_rate: 2.0000e-05\n",
            "Epoch 25/30\n",
            "\u001b[1m18/18\u001b[0m \u001b[32m━━━━━━━━━━━━━━━━━━━━\u001b[0m\u001b[37m\u001b[0m \u001b[1m1s\u001b[0m 37ms/step - accuracy: 1.0000 - loss: 0.0014 - val_accuracy: 1.0000 - val_loss: 2.0302e-05 - learning_rate: 2.0000e-05\n"
          ]
        }
      ]
    },
    {
      "cell_type": "markdown",
      "source": [
        "**EVALUATE ON TEST SET**"
      ],
      "metadata": {
        "id": "i0irzvsb6q5h"
      }
    },
    {
      "cell_type": "code",
      "source": [
        "print(\"\\nEvaluate on test set:\")\n",
        "# Collect true labels and predictions separately\n",
        "y_true_test = np.concatenate([y for x, y in test_ds], axis=0)\n",
        "y_pred_probs_test = model.predict(test_ds)\n",
        "y_pred_test = np.argmax(y_pred_probs_test, axis=-1)\n",
        "\n",
        "# Evaluate the model using the collected data\n",
        "test_loss, test_acc = model.evaluate(test_ds)\n",
        "print(f\"Test loss: {test_loss:.4f}\")\n",
        "print(f\"Test accuracy: {test_acc:.4f}\")\n"
      ],
      "metadata": {
        "colab": {
          "base_uri": "https://localhost:8080/"
        },
        "id": "gYQo_yHTNzkQ",
        "outputId": "c6908708-ade5-4202-97d0-475cb6e5cd15"
      },
      "execution_count": 13,
      "outputs": [
        {
          "output_type": "stream",
          "name": "stdout",
          "text": [
            "\n",
            "Evaluate on test set:\n",
            "\u001b[1m3/3\u001b[0m \u001b[32m━━━━━━━━━━━━━━━━━━━━\u001b[0m\u001b[37m\u001b[0m \u001b[1m0s\u001b[0m 11ms/step\n",
            "\u001b[1m3/3\u001b[0m \u001b[32m━━━━━━━━━━━━━━━━━━━━\u001b[0m\u001b[37m\u001b[0m \u001b[1m0s\u001b[0m 13ms/step - accuracy: 1.0000 - loss: 4.7654e-05\n",
            "Test loss: 0.0000\n",
            "Test accuracy: 1.0000\n"
          ]
        }
      ]
    },
    {
      "cell_type": "markdown",
      "source": [
        "**CLASSIFICATION REPORT**"
      ],
      "metadata": {
        "id": "s64w5JuUySbc"
      }
    },
    {
      "cell_type": "code",
      "source": [
        "y_true = np.concatenate([y for x, y in test_ds], axis=0)\n",
        "y_pred_probs = model.predict(test_ds)\n",
        "y_pred = np.argmax(y_pred_probs, axis=-1)\n",
        "print(f\"\\nDetailed Classification Report:\")\n",
        "print(classification_report(y_true, y_pred, target_names=class_names))"
      ],
      "metadata": {
        "colab": {
          "base_uri": "https://localhost:8080/"
        },
        "id": "qa7RY9knyQrX",
        "outputId": "b656b6d1-584b-4d01-fac0-a172c2a0b2b3"
      },
      "execution_count": 14,
      "outputs": [
        {
          "output_type": "stream",
          "name": "stdout",
          "text": [
            "\u001b[1m3/3\u001b[0m \u001b[32m━━━━━━━━━━━━━━━━━━━━\u001b[0m\u001b[37m\u001b[0m \u001b[1m0s\u001b[0m 10ms/step\n",
            "\n",
            "Detailed Classification Report:\n",
            "              precision    recall  f1-score   support\n",
            "\n",
            "      damage       1.00      1.00      1.00         4\n",
            "       floor       1.00      1.00      1.00        15\n",
            "        soil       1.00      1.00      1.00        66\n",
            "\n",
            "    accuracy                           1.00        85\n",
            "   macro avg       1.00      1.00      1.00        85\n",
            "weighted avg       1.00      1.00      1.00        85\n",
            "\n"
          ]
        }
      ]
    },
    {
      "cell_type": "markdown",
      "source": [
        "**CONFUSION MATRIX**"
      ],
      "metadata": {
        "id": "kk-fT12n1d6r"
      }
    },
    {
      "cell_type": "code",
      "source": [
        "cm = confusion_matrix(y_true, y_pred)\n",
        "plt.figure(figsize=(10, 8))\n",
        "sns.heatmap(cm, annot=True, fmt='d', cmap='Blues', xticklabels=class_names, yticklabels=class_names)\n",
        "plt.xlabel('Predicted')\n",
        "plt.ylabel('True')\n",
        "plt.title('Confusion Matrix')\n",
        "plt.show()"
      ],
      "metadata": {
        "colab": {
          "base_uri": "https://localhost:8080/",
          "height": 718
        },
        "id": "ja3NsANKzgj9",
        "outputId": "a2982176-706d-45bf-83c1-ed5a30a6447a"
      },
      "execution_count": 15,
      "outputs": [
        {
          "output_type": "display_data",
          "data": {
            "text/plain": [
              "<Figure size 1000x800 with 2 Axes>"
            ],
            "image/png": "[encoded data removed]"
          },
          "metadata": {}
        }
      ]
    },
    {
      "cell_type": "markdown",
      "source": [
        "**PLOT ACCURACY && LOSS**"
      ],
      "metadata": {
        "id": "whZv9mH810w1"
      }
    },
    {
      "cell_type": "code",
      "source": [
        "plt.plot(history.history['loss'], label='Train Loss')\n",
        "plt.plot(history.history['val_loss'], label = 'Validation Loss')\n",
        "plt.legend()\n",
        "plt.title('Model Loss')\n",
        "plt.xlabel('Epoch')\n",
        "plt.ylabel('Loss')\n",
        "plt.show()"
      ],
      "metadata": {
        "colab": {
          "base_uri": "https://localhost:8080/",
          "height": 472
        },
        "id": "VPxQTFLROtQm",
        "outputId": "e307821d-afb5-4144-d5d4-eaf2709d35ff"
      },
      "execution_count": 16,
      "outputs": [
        {
          "output_type": "display_data",
          "data": {
            "text/plain": [
              "<Figure size 640x480 with 1 Axes>"
            ],
            "image/png": "[encoded data removed]"
          },
          "metadata": {}
        }
      ]
    },
    {
      "cell_type": "code",
      "source": [
        "\n",
        "plt.plot(history.history['accuracy'], label='Train Accuracy')\n",
        "plt.plot(history.history['val_accuracy'], label = 'Validation Accuracy')\n",
        "plt.legend()\n",
        "plt.title('Model Accuracy')\n",
        "plt.xlabel('Epoch')\n",
        "plt.ylabel('Accuracy')\n",
        "plt.show()"
      ],
      "metadata": {
        "colab": {
          "base_uri": "https://localhost:8080/",
          "height": 472
        },
        "id": "sNLD-8f-OGaX",
        "outputId": "95f447b4-2ca9-4a34-f8fa-bd0cfe16d61e"
      },
      "execution_count": 17,
      "outputs": [
        {
          "output_type": "display_data",
          "data": {
            "text/plain": [
              "<Figure size 640x480 with 1 Axes>"
            ],
            "image/png": "[encoded data removed]"
          },
          "metadata": {}
        }
      ]
    },
    {
      "cell_type": "code",
      "source": [
        "model.save('faw-model-pipeline.keras')"
      ],
      "metadata": {
        "id": "O6WG0C48T_Ex"
      },
      "execution_count": 18,
      "outputs": []
    }
  ]
}