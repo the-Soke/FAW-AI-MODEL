{
  "cells": [
    {
      "cell_type": "markdown",
      "metadata": {
        "id": "view-in-github",
        "colab_type": "text"
      },
      "source": [
        "<a href=\"https://colab.research.google.com/github/the-Soke/FAW-AI-MODEL/blob/Trained.faw.ipynb/Trained_faw.ipynb\" target=\"_parent\"><img src=\"https://colab.research.google.com/assets/colab-badge.svg\" alt=\"Open In Colab\"/></a>"
      ]
    },
    {
      "cell_type": "code",
      "execution_count": null,
      "metadata": {
        "colab": {
          "base_uri": "https://localhost:8080/"
        },
        "id": "savKvyenpnAB",
        "outputId": "2e7c2189-92bb-4678-8686-0e13dd17ed4f"
      },
      "outputs": [
        {
          "name": "stdout",
          "output_type": "stream",
          "text": [
            "Cloning into 'FAW-AI-MODEL'...\n",
            "remote: Enumerating objects: 747, done.\u001b[K\n",
            "remote: Counting objects: 100% (747/747), done.\u001b[K\n",
            "remote: Compressing objects: 100% (746/746), done.\u001b[K\n",
            "remote: Total 747 (delta 4), reused 731 (delta 1), pack-reused 0 (from 0)\u001b[K\n",
            "Receiving objects: 100% (747/747), 42.43 MiB | 30.23 MiB/s, done.\n",
            "Resolving deltas: 100% (4/4), done.\n",
            "/content/FAW-AI-MODEL\n"
          ]
        }
      ],
      "source": [
        "!pip install torch torchvision torchaudio --quiet\n",
        "!git clone https://github.com/the-Soke/FAW-AI-MODEL.git\n",
        "%cd FAW-AI-MODEL"
      ]
    },
    {
      "cell_type": "code",
      "execution_count": null,
      "metadata": {
        "colab": {
          "base_uri": "https://localhost:8080/"
        },
        "id": "6AbUo8Q4QXFv",
        "outputId": "c3d0f8a6-b28d-4b55-d043-a98dd6f36960"
      },
      "outputs": [
        {
          "name": "stdout",
          "output_type": "stream",
          "text": [
            " dataset\n",
            "'Fall-Armyworm-Spodoptera-frugipe-landscape- soil background 2.zip'\n",
            " Fall-Armyworm-Spodoptera-frugipe-landscape.zip\n",
            "'Fall Armyworm (Spodoptera frugiperda) - floor background.zip'\n",
            "'Fall Armyworm (Spodoptera frugiperda) - Soil background 3.zip'\n",
            " Fall-Armyworm-Spodoptera-frugipe.zip\n",
            " FAW_AI_PROJECT.ipynb\n",
            " README.md\n"
          ]
        }
      ],
      "source": [
        "!ls /content/FAW-AI-MODEL"
      ]
    },
    {
      "cell_type": "code",
      "execution_count": null,
      "metadata": {
        "colab": {
          "base_uri": "https://localhost:8080/"
        },
        "id": "meGR-HI_QbvZ",
        "outputId": "189bc638-65d9-48bf-8dd3-9fbbb15d9d24"
      },
      "outputs": [
        {
          "name": "stdout",
          "output_type": "stream",
          "text": [
            "damage\tfloor  soil\n"
          ]
        }
      ],
      "source": [
        "!ls /content/FAW-AI-MODEL/dataset\n"
      ]
    },
    {
      "cell_type": "code",
      "execution_count": null,
      "metadata": {
        "colab": {
          "base_uri": "https://localhost:8080/"
        },
        "id": "CBmvnhp7QtLO",
        "outputId": "9d9b4bcd-fe33-4039-bffc-641df37bd562"
      },
      "outputs": [
        {
          "name": "stdout",
          "output_type": "stream",
          "text": [
            "✅ Dataset loaded successfully!\n",
            "Train samples: 580\n",
            "Validation samples: 145\n",
            "Classes: ['damage', 'floor', 'soil']\n"
          ]
        }
      ],
      "source": [
        "import os\n",
        "from torchvision import datasets, transforms\n",
        "from torch.utils.data import DataLoader, random_split\n",
        "\n",
        "# Define dataset path\n",
        "data_dir = \"/content/FAW-AI-MODEL/dataset\"\n",
        "\n",
        "# Define transforms (resize, normalize, etc.)\n",
        "data_transforms = {\n",
        "    'train': transforms.Compose([\n",
        "        transforms.Resize((224, 224)),\n",
        "        transforms.RandomHorizontalFlip(),\n",
        "        transforms.RandomRotation(15),\n",
        "        transforms.ToTensor(),\n",
        "        transforms.Normalize([0.485, 0.456, 0.406],\n",
        "                             [0.229, 0.224, 0.225])\n",
        "    ]),\n",
        "    'val': transforms.Compose([\n",
        "        transforms.Resize((224, 224)),\n",
        "        transforms.ToTensor(),\n",
        "        transforms.Normalize([0.485, 0.456, 0.406],\n",
        "                             [0.229, 0.224, 0.225])\n",
        "    ]),\n",
        "}\n",
        "\n",
        "# Load full dataset\n",
        "full_dataset = datasets.ImageFolder(data_dir, transform=data_transforms['train'])\n",
        "\n",
        "# Split into train and val sets (80/20)\n",
        "train_size = int(0.8 * len(full_dataset))\n",
        "val_size = len(full_dataset) - train_size\n",
        "train_dataset, val_dataset = random_split(full_dataset, [train_size, val_size])\n",
        "\n",
        "# Create dataloaders\n",
        "train_loader = DataLoader(train_dataset, batch_size=32, shuffle=True)\n",
        "val_loader = DataLoader(val_dataset, batch_size=32, shuffle=False)\n",
        "\n",
        "print(\"✅ Dataset loaded successfully!\")\n",
        "print(\"Train samples:\", len(train_dataset))\n",
        "print(\"Validation samples:\", len(val_dataset))\n",
        "print(\"Classes:\", full_dataset.classes)\n",
        "\n"
      ]
    },
    {
      "cell_type": "code",
      "execution_count": null,
      "metadata": {
        "colab": {
          "base_uri": "https://localhost:8080/"
        },
        "id": "OrIhcKgUQ3n8",
        "outputId": "3df04883-1cfc-4049-eb48-f23268db14db"
      },
      "outputs": [
        {
          "name": "stdout",
          "output_type": "stream",
          "text": [
            "Using device: cpu\n"
          ]
        }
      ],
      "source": [
        "import torch\n",
        "import torch.nn as nn\n",
        "import torch.optim as optim\n",
        "from torchvision import models\n",
        "from torch.utils.data import DataLoader\n",
        "import matplotlib.pyplot as plt\n",
        "import numpy as np\n",
        "\n",
        "device = torch.device(\"cuda\" if torch.cuda.is_available() else \"cpu\")\n",
        "print(\"Using device:\", device)\n"
      ]
    },
    {
      "cell_type": "code",
      "execution_count": null,
      "metadata": {
        "colab": {
          "base_uri": "https://localhost:8080/"
        },
        "id": "mH5nl2J8RH3W",
        "outputId": "96f26547-cb8e-43e1-bc27-ee450001157d"
      },
      "outputs": [
        {
          "name": "stdout",
          "output_type": "stream",
          "text": [
            "Downloading: \"https://download.pytorch.org/models/resnet18-f37072fd.pth\" to /root/.cache/torch/hub/checkpoints/resnet18-f37072fd.pth\n"
          ]
        },
        {
          "name": "stderr",
          "output_type": "stream",
          "text": [
            "100%|██████████| 44.7M/44.7M [00:00<00:00, 89.3MB/s]\n"
          ]
        },
        {
          "name": "stdout",
          "output_type": "stream",
          "text": [
            "✅ ResNet18 model ready for training!\n"
          ]
        }
      ],
      "source": [
        "# Load pretrained ResNet18\n",
        "model = models.resnet18(weights='IMAGENET1K_V1')\n",
        "\n",
        "# Replace the last fully connected layer\n",
        "num_features = model.fc.in_features\n",
        "model.fc = nn.Linear(num_features, 3)  # 3 classes\n",
        "\n",
        "model = model.to(device)\n",
        "print(\"✅ ResNet18 model ready for training!\")\n"
      ]
    },
    {
      "cell_type": "code",
      "execution_count": null,
      "metadata": {
        "id": "YextuTINRPR5"
      },
      "outputs": [],
      "source": [
        "criterion = nn.CrossEntropyLoss()\n",
        "optimizer = optim.Adam(model.parameters(), lr=0.001)\n"
      ]
    },
    {
      "cell_type": "code",
      "execution_count": null,
      "metadata": {
        "colab": {
          "background_save": true,
          "base_uri": "https://localhost:8080/"
        },
        "id": "qlhp81mzSeb0",
        "outputId": "996af92c-fb1f-406c-8bf3-0cd52852f0bd"
      },
      "outputs": [
        {
          "name": "stdout",
          "output_type": "stream",
          "text": [
            "Epoch [1/6] Train Loss: 0.2354, Train Acc: 92.24% | Val Loss: 9.2252, Val Acc: 34.48%\n",
            "Epoch [2/6] Train Loss: 0.0347, Train Acc: 99.31% | Val Loss: 0.4458, Val Acc: 92.41%\n",
            "Epoch [3/6] Train Loss: 0.0579, Train Acc: 97.76% | Val Loss: 9.5624, Val Acc: 16.55%\n",
            "Epoch [4/6] Train Loss: 0.0174, Train Acc: 99.31% | Val Loss: 1.3349, Val Acc: 78.62%\n",
            "Epoch [5/6] Train Loss: 0.0302, Train Acc: 98.45% | Val Loss: 0.0341, Val Acc: 99.31%\n",
            "Epoch [6/6] Train Loss: 0.0363, Train Acc: 99.31% | Val Loss: 0.3407, Val Acc: 89.66%\n"
          ]
        }
      ],
      "source": [
        "num_epochs = 5\n",
        "train_losses, val_losses, train_accs, val_accs = [], [], [], []\n",
        "\n",
        "for epoch in range(num_epochs):\n",
        "    model.train()\n",
        "    running_loss, correct, total = 0.0, 0, 0\n",
        "\n",
        "    for images, labels in train_loader:\n",
        "        images, labels = images.to(device), labels.to(device)\n",
        "        optimizer.zero_grad()\n",
        "\n",
        "        outputs = model(images)\n",
        "        loss = criterion(outputs, labels)\n",
        "        loss.backward()\n",
        "        optimizer.step()\n",
        "\n",
        "        running_loss += loss.item()\n",
        "        _, preds = torch.max(outputs, 1)\n",
        "        correct += (preds == labels).sum().item()\n",
        "        total += labels.size(0)\n",
        "\n",
        "    train_loss = running_loss / len(train_loader)\n",
        "    train_acc = 100 * correct / total\n",
        "\n",
        "    # Validation phase\n",
        "    model.eval()\n",
        "    val_loss, val_correct, val_total = 0.0, 0, 0\n",
        "    with torch.no_grad():\n",
        "        for images, labels in val_loader:\n",
        "            images, labels = images.to(device), labels.to(device)\n",
        "            outputs = model(images)\n",
        "            loss = criterion(outputs, labels)\n",
        "            val_loss += loss.item()\n",
        "            _, preds = torch.max(outputs, 1)\n",
        "            val_correct += (preds == labels).sum().item()\n",
        "            val_total += labels.size(0)\n",
        "\n",
        "    val_loss /= len(val_loader)\n",
        "    val_acc = 100 * val_correct / val_total\n",
        "\n",
        "    # Log results\n",
        "    train_losses.append(train_loss)\n",
        "    val_losses.append(val_loss)\n",
        "    train_accs.append(train_acc)\n",
        "    val_accs.append(val_acc)\n",
        "\n",
        "    print(f\"Epoch [{epoch+1}/{num_epochs}] \"\n",
        "          f\"Train Loss: {train_loss:.4f}, Train Acc: {train_acc:.2f}% | \"\n",
        "          f\"Val Loss: {val_loss:.4f}, Val Acc: {val_acc:.2f}%\")\n"
      ]
    },
    {
      "cell_type": "code",
      "source": [
        "# --- PHASE 2: Fine-tuning (unfreeze entire model) ---\n",
        "for param in model.parameters():\n",
        "    param.requires_grad = True  # <— Unfreeze everything\n",
        "\n",
        "# Now use a smaller LR (so you don’t “destroy” the pretrained features)\n",
        "optimizer = torch.optim.Adam(model.parameters(), lr=0.0001)\n",
        "\n",
        "num_epochs = 3\n",
        "train_losses, val_losses, train_accs, val_accs = [], [], [], []\n",
        "\n",
        "for epoch in range(num_epochs):\n",
        "    model.train()\n",
        "    running_loss, correct, total = 0.0, 0, 0\n",
        "\n",
        "    for images, labels in train_loader:\n",
        "        images, labels = images.to(device), labels.to(device)\n",
        "        optimizer.zero_grad()\n",
        "\n",
        "        outputs = model(images)\n",
        "        loss = criterion(outputs, labels)\n",
        "        loss.backward()\n",
        "        optimizer.step()\n",
        "\n",
        "        running_loss += loss.item()\n",
        "        _, preds = torch.max(outputs, 1)\n",
        "        correct += (preds == labels).sum().item()\n",
        "        total += labels.size(0)\n",
        "\n",
        "    train_loss = running_loss / len(train_loader)\n",
        "    train_acc = 100 * correct / total\n",
        "\n",
        "    # Validation phase\n",
        "    model.eval()\n",
        "    val_loss, val_correct, val_total = 0.0, 0, 0\n",
        "    with torch.no_grad():\n",
        "        for images, labels in val_loader:\n",
        "            images, labels = images.to(device), labels.to(device)\n",
        "            outputs = model(images)\n",
        "            loss = criterion(outputs, labels)\n",
        "            val_loss += loss.item()\n",
        "            _, preds = torch.max(outputs, 1)\n",
        "            val_correct += (preds == labels).sum().item()\n",
        "            val_total += labels.size(0)\n",
        "\n",
        "    val_loss /= len(val_loader)\n",
        "    val_acc = 100 * val_correct / val_total\n",
        "\n",
        "    # Log results\n",
        "    train_losses.append(train_loss)\n",
        "    val_losses.append(val_loss)\n",
        "    train_accs.append(train_acc)\n",
        "    val_accs.append(val_acc)\n",
        "\n",
        "    print(f\"Epoch [{epoch+1}/{num_epochs}] \"\n",
        "          f\"Train Loss: {train_loss:.4f}, Train Acc: {train_acc:.2f}% | \"\n",
        "          f\"Val Loss: {val_loss:.4f}, Val Acc: {val_acc:.2f}%\")\n"
      ],
      "metadata": {
        "colab": {
          "base_uri": "https://localhost:8080/"
        },
        "id": "n9Nf9RMbIHZV",
        "outputId": "ed4b65ae-375a-4b26-9f9c-b06790140a0e"
      },
      "execution_count": 10,
      "outputs": [
        {
          "output_type": "stream",
          "name": "stdout",
          "text": [
            "Epoch [1/3] Train Loss: 0.0058, Train Acc: 100.00% | Val Loss: 0.0005, Val Acc: 100.00%\n",
            "Epoch [2/3] Train Loss: 0.0078, Train Acc: 99.66% | Val Loss: 0.0028, Val Acc: 100.00%\n",
            "Epoch [3/3] Train Loss: 0.0037, Train Acc: 100.00% | Val Loss: 0.0005, Val Acc: 100.00%\n"
          ]
        }
      ]
    },
    {
      "cell_type": "code",
      "source": [
        "torch.save(model.state_dict(), \"best_resnet18_faw.pth\")\n",
        "print(\"✅ Model saved successfully as best_resnet18_faw.pth\")\n"
      ],
      "metadata": {
        "colab": {
          "base_uri": "https://localhost:8080/"
        },
        "id": "eVjlUwPwLdTL",
        "outputId": "ec7c7a8a-6ff6-401d-b420-6cf6705661ea"
      },
      "execution_count": 11,
      "outputs": [
        {
          "output_type": "stream",
          "name": "stdout",
          "text": [
            "✅ Model saved successfully as best_resnet18_faw.pth\n"
          ]
        }
      ]
    }
  ],
  "metadata": {
    "colab": {
      "provenance": [],
      "include_colab_link": true
    },
    "kernelspec": {
      "display_name": "Python 3",
      "name": "python3"
    },
    "language_info": {
      "name": "python"
    }
  },
  "nbformat": 4,
  "nbformat_minor": 0
}